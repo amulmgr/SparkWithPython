{
 "cells": [
  {
   "cell_type": "markdown",
   "metadata": {},
   "source": [
    "PySpark API provide two functions to handle duplicate rows:\n",
    "1. distinct()       : Drop the duplicate rows (all columns) from DataFrame\n",
    "2. dropDuplicates() : Drop selected (one or multiple) columns."
   ]
  },
  {
   "cell_type": "markdown",
   "metadata": {},
   "source": [
    "## Initialize SparkSession"
   ]
  },
  {
   "cell_type": "code",
   "execution_count": 3,
   "metadata": {},
   "outputs": [],
   "source": [
    "from __future__ import print_function\n",
    "import findspark\n",
    "findspark.init()\n",
    "import pyspark\n",
    "from pyspark.sql import SparkSession"
   ]
  },
  {
   "cell_type": "code",
   "execution_count": 5,
   "metadata": {},
   "outputs": [],
   "source": [
    "spark = SparkSession.builder.appName(\"Handle Duplicates\").getOrCreate()"
   ]
  },
  {
   "cell_type": "markdown",
   "metadata": {},
   "source": [
    "## Create Dataframe with sample data\n",
    "\n",
    "Create a DataFrame with some duplicate rows and duplicate values on a few columns. "
   ]
  },
  {
   "cell_type": "code",
   "execution_count": 8,
   "metadata": {},
   "outputs": [],
   "source": [
    "columns= [\"first\", \"last\",\"address\",\"city\",\"state\"]\n",
    "data = [\n",
    "    (\"satish\", \"kumar\", \"EC\", \"Bangalore\", \"KAR\"),\n",
    "    (\"Teja\", \"\", \"EC\", \"Bangalore\", \"KAR\"),\n",
    "    (\"Ramya\", \"Sree\", \"EC\", \"Bangalore\", \"KAR\"),\n",
    "    (\"satish\", \"kumar\", \"TR\", \"Yemmiganur\", \"AP\"),\n",
    "    (\"Ramya\", \"Sree\", \"IN\", \"Anantapur\", \"AP\"),\n",
    "    (\"satish\", \"kumar\", \"EC\", \"Bangalore\", \"KAR\"),\n",
    "    (\"Ramya\", \"Sree\", \"EC\", \"Bangalore\", \"KAR\"),\n",
    "    (\"satish\", \"kumar\", \"EC\", \"Bangalore\", \"KAR\"),\n",
    "]"
   ]
  },
  {
   "cell_type": "code",
   "execution_count": 9,
   "metadata": {},
   "outputs": [
    {
     "name": "stdout",
     "output_type": "stream",
     "text": [
      "root\n",
      " |-- first: string (nullable = true)\n",
      " |-- last: string (nullable = true)\n",
      " |-- address: string (nullable = true)\n",
      " |-- city: string (nullable = true)\n",
      " |-- state: string (nullable = true)\n",
      "\n"
     ]
    }
   ],
   "source": [
    "df = spark.createDataFrame(data = data, schema = columns)\n",
    "df.printSchema()"
   ]
  },
  {
   "cell_type": "code",
   "execution_count": 10,
   "metadata": {},
   "outputs": [
    {
     "name": "stdout",
     "output_type": "stream",
     "text": [
      "+------+-----+-------+----------+-----+\n",
      "|first |last |address|city      |state|\n",
      "+------+-----+-------+----------+-----+\n",
      "|satish|kumar|EC     |Bangalore |KAR  |\n",
      "|Teja  |     |EC     |Bangalore |KAR  |\n",
      "|Ramya |Sree |EC     |Bangalore |KAR  |\n",
      "|satish|kumar|TR     |Yemmiganur|AP   |\n",
      "|Ramya |Sree |IN     |Anantapur |AP   |\n",
      "|satish|kumar|EC     |Bangalore |KAR  |\n",
      "|Ramya |Sree |EC     |Bangalore |KAR  |\n",
      "|satish|kumar|EC     |Bangalore |KAR  |\n",
      "+------+-----+-------+----------+-----+\n",
      "\n"
     ]
    }
   ],
   "source": [
    "df.show(truncate=False)"
   ]
  },
  {
   "cell_type": "markdown",
   "metadata": {},
   "source": [
    "## Drop duplicate rows (all columns) from DataFrame"
   ]
  },
  {
   "cell_type": "markdown",
   "metadata": {},
   "source": [
    "As you notice, DataFrame having total  8 records with 3 rows having same values. So by applying distinct() on dataframe it should return 5."
   ]
  },
  {
   "cell_type": "code",
   "execution_count": 11,
   "metadata": {},
   "outputs": [
    {
     "data": {
      "text/plain": [
       "5"
      ]
     },
     "execution_count": 11,
     "metadata": {},
     "output_type": "execute_result"
    }
   ],
   "source": [
    "distinct_df = df.distinct()\n",
    "distinct_df.count()"
   ]
  },
  {
   "cell_type": "code",
   "execution_count": 12,
   "metadata": {},
   "outputs": [
    {
     "name": "stdout",
     "output_type": "stream",
     "text": [
      "+------+-----+-------+----------+-----+\n",
      "|first |last |address|city      |state|\n",
      "+------+-----+-------+----------+-----+\n",
      "|Teja  |     |EC     |Bangalore |KAR  |\n",
      "|satish|kumar|EC     |Bangalore |KAR  |\n",
      "|Ramya |Sree |EC     |Bangalore |KAR  |\n",
      "|Ramya |Sree |IN     |Anantapur |AP   |\n",
      "|satish|kumar|TR     |Yemmiganur|AP   |\n",
      "+------+-----+-------+----------+-----+\n",
      "\n"
     ]
    }
   ],
   "source": [
    "distinct_df.show(truncate=False)"
   ]
  },
  {
   "cell_type": "markdown",
   "metadata": {},
   "source": [
    "## Drop selected (one or multiple) columns."
   ]
  },
  {
   "cell_type": "code",
   "execution_count": 13,
   "metadata": {},
   "outputs": [
    {
     "name": "stdout",
     "output_type": "stream",
     "text": [
      "+------+-----+-------+---------+-----+\n",
      "|first |last |address|city     |state|\n",
      "+------+-----+-------+---------+-----+\n",
      "|satish|kumar|EC     |Bangalore|KAR  |\n",
      "|Teja  |     |EC     |Bangalore|KAR  |\n",
      "|Ramya |Sree |EC     |Bangalore|KAR  |\n",
      "+------+-----+-------+---------+-----+\n",
      "\n"
     ]
    }
   ],
   "source": [
    "distinct_df = df.dropDuplicates([\"first\",\"last\"])\n",
    "distinct_df.show(truncate=False)"
   ]
  },
  {
   "cell_type": "markdown",
   "metadata": {},
   "source": [
    "Here drops the duplicate records that having duplicate values for the columns 'first' and 'last'."
   ]
  }
 ],
 "metadata": {
  "kernelspec": {
   "display_name": "Python 3",
   "language": "python",
   "name": "python3"
  },
  "language_info": {
   "codemirror_mode": {
    "name": "ipython",
    "version": 3
   },
   "file_extension": ".py",
   "mimetype": "text/x-python",
   "name": "python",
   "nbconvert_exporter": "python",
   "pygments_lexer": "ipython3",
   "version": "3.6.9"
  }
 },
 "nbformat": 4,
 "nbformat_minor": 4
}
