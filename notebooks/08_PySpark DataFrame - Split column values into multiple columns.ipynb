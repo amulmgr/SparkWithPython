{
 "cells": [
  {
   "cell_type": "markdown",
   "metadata": {},
   "source": [
    "### Import Required modules and initialize SparkSession"
   ]
  },
  {
   "cell_type": "code",
   "execution_count": 1,
   "metadata": {},
   "outputs": [],
   "source": [
    "from __future__ import print_function\n",
    "import findspark\n",
    "findspark.init()\n",
    "import pyspark\n",
    "from pyspark.sql import SparkSession\n",
    "\n",
    "spark = SparkSession.builder.appName(\"Using Split Functions\").getOrCreate()"
   ]
  },
  {
   "cell_type": "code",
   "execution_count": 2,
   "metadata": {},
   "outputs": [
    {
     "data": {
      "text/html": [
       "\n",
       "            <div>\n",
       "                <p><b>SparkSession - in-memory</b></p>\n",
       "                \n",
       "        <div>\n",
       "            <p><b>SparkContext</b></p>\n",
       "\n",
       "            <p><a href=\"http://DESKTOP-O9UJUJO.mshome.net:4050\">Spark UI</a></p>\n",
       "\n",
       "            <dl>\n",
       "              <dt>Version</dt>\n",
       "                <dd><code>v3.1.1</code></dd>\n",
       "              <dt>Master</dt>\n",
       "                <dd><code>local[*]</code></dd>\n",
       "              <dt>AppName</dt>\n",
       "                <dd><code>Using Split Functions</code></dd>\n",
       "            </dl>\n",
       "        </div>\n",
       "        \n",
       "            </div>\n",
       "        "
      ],
      "text/plain": [
       "<pyspark.sql.session.SparkSession at 0x252f6fe6f60>"
      ]
     },
     "execution_count": 2,
     "metadata": {},
     "output_type": "execute_result"
    }
   ],
   "source": [
    "spark"
   ]
  },
  {
   "cell_type": "code",
   "execution_count": 3,
   "metadata": {
    "application/vnd.databricks.v1+cell": {
     "inputWidgets": {},
     "nuid": "b6eec9e5-770d-4615-97c1-bdd3f15d556f",
     "showTitle": false,
     "title": ""
    }
   },
   "outputs": [],
   "source": [
    "data = [\n",
    "  ('user1', 'Amaravati,AP,India'),\n",
    "  ('user2', 'Karnataka,India'),\n",
    "  ('user3', 'Hyderabad,Telangana,India'),\n",
    "  ('user4', 'India'),\n",
    "]"
   ]
  },
  {
   "cell_type": "code",
   "execution_count": 4,
   "metadata": {
    "application/vnd.databricks.v1+cell": {
     "inputWidgets": {},
     "nuid": "1893dfd6-4405-45a7-b547-b87428f96f4f",
     "showTitle": false,
     "title": ""
    }
   },
   "outputs": [
    {
     "name": "stdout",
     "output_type": "stream",
     "text": [
      "+---------+--------------------+\n",
      "|cust_name|        full_address|\n",
      "+---------+--------------------+\n",
      "|    user1|  Amaravati,AP,India|\n",
      "|    user2|     Karnataka,India|\n",
      "|    user3|Hyderabad,Telanga...|\n",
      "|    user4|               India|\n",
      "+---------+--------------------+\n",
      "\n"
     ]
    }
   ],
   "source": [
    "df = spark.createDataFrame(data, ['cust_name', 'full_address'])\n",
    "df.show()"
   ]
  },
  {
   "cell_type": "code",
   "execution_count": 5,
   "metadata": {
    "application/vnd.databricks.v1+cell": {
     "inputWidgets": {},
     "nuid": "8ac9d9a7-77a7-4d0e-831c-4be32d558c89",
     "showTitle": false,
     "title": ""
    }
   },
   "outputs": [
    {
     "name": "stdout",
     "output_type": "stream",
     "text": [
      "root\n",
      " |-- cust_name: string (nullable = true)\n",
      " |-- address: array (nullable = true)\n",
      " |    |-- element: string (containsNull = true)\n",
      "\n",
      "+---------+-----------------------------+\n",
      "|cust_name|address                      |\n",
      "+---------+-----------------------------+\n",
      "|user1    |[India, AP, Amaravati]       |\n",
      "|user2    |[India, Karnataka]           |\n",
      "|user3    |[India, Telangana, Hyderabad]|\n",
      "|user4    |[India]                      |\n",
      "+---------+-----------------------------+\n",
      "\n"
     ]
    }
   ],
   "source": [
    "import pyspark.sql.functions as f\n",
    "df1 = (\n",
    "  df.select(\n",
    "    f.col(\"cust_name\"),\n",
    "    f.reverse(f.split(df.full_address,\",\")).alias(\"address\")\n",
    "  )\n",
    ")\n",
    "\n",
    "df1.printSchema()\n",
    "df1.show(truncate = False)"
   ]
  },
  {
   "cell_type": "code",
   "execution_count": 6,
   "metadata": {
    "application/vnd.databricks.v1+cell": {
     "inputWidgets": {},
     "nuid": "cefe136d-551f-40bc-8a3f-14f319fcff2a",
     "showTitle": false,
     "title": ""
    }
   },
   "outputs": [
    {
     "name": "stdout",
     "output_type": "stream",
     "text": [
      "root\n",
      " |-- cust_name: string (nullable = true)\n",
      " |-- city: string (nullable = true)\n",
      " |-- state: string (nullable = true)\n",
      " |-- country: string (nullable = true)\n",
      "\n",
      "+---------+---------+---------+-------+\n",
      "|cust_name|city     |state    |country|\n",
      "+---------+---------+---------+-------+\n",
      "|user1    |Amaravati|AP       |India  |\n",
      "|user2    |null     |Karnataka|India  |\n",
      "|user3    |Hyderabad|Telangana|India  |\n",
      "|user4    |null     |null     |India  |\n",
      "+---------+---------+---------+-------+\n",
      "\n"
     ]
    }
   ],
   "source": [
    "result_df = df1.select (\n",
    "  f.col(\"cust_name\"),\n",
    "  (f.col(\"address\")[2]).alias(\"city\"),\n",
    "  (f.col(\"address\")[1]).alias(\"state\"),\n",
    "  (f.col(\"address\")[0]).alias(\"country\"),\n",
    ")\n",
    "\n",
    "result_df.printSchema()\n",
    "result_df.show(truncate=False)"
   ]
  },
  {
   "cell_type": "code",
   "execution_count": null,
   "metadata": {
    "application/vnd.databricks.v1+cell": {
     "inputWidgets": {},
     "nuid": "696835f0-3806-4f80-a219-982c9d473c98",
     "showTitle": false,
     "title": ""
    }
   },
   "outputs": [],
   "source": []
  }
 ],
 "metadata": {
  "application/vnd.databricks.v1+notebook": {
   "dashboards": [],
   "language": "python",
   "notebookName": "split_col_multi_cols",
   "notebookOrigID": 592693076381855,
   "widgets": {}
  },
  "kernelspec": {
   "display_name": "Python 3",
   "language": "python",
   "name": "python3"
  },
  "language_info": {
   "codemirror_mode": {
    "name": "ipython",
    "version": 3
   },
   "file_extension": ".py",
   "mimetype": "text/x-python",
   "name": "python",
   "nbconvert_exporter": "python",
   "pygments_lexer": "ipython3",
   "version": "3.6.9"
  }
 },
 "nbformat": 4,
 "nbformat_minor": 1
}
