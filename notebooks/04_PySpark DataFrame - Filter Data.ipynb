{
 "cells": [
  {
   "cell_type": "markdown",
   "id": "8a4abc9e",
   "metadata": {},
   "source": [
    "## Filter Data \n",
    "\n",
    "By use DataFrame.filter(), to select a subset of rows from Dataframe on condintion defined"
   ]
  },
  {
   "cell_type": "markdown",
   "id": "03f84783",
   "metadata": {},
   "source": [
    "### Import Required modules and initialize SparkSession"
   ]
  },
  {
   "cell_type": "code",
   "execution_count": 1,
   "id": "599a84bb",
   "metadata": {},
   "outputs": [],
   "source": [
    "from __future__ import print_function\n",
    "import findspark\n",
    "findspark.init()\n",
    "import pyspark\n",
    "from pyspark.sql import SparkSession"
   ]
  },
  {
   "cell_type": "code",
   "execution_count": 2,
   "id": "401e5fcd",
   "metadata": {},
   "outputs": [],
   "source": [
    "spark = SparkSession.builder.appName(\"Filter Data\").getOrCreate()"
   ]
  },
  {
   "cell_type": "code",
   "execution_count": 3,
   "id": "0d18644d",
   "metadata": {},
   "outputs": [
    {
     "data": {
      "text/html": [
       "\n",
       "            <div>\n",
       "                <p><b>SparkSession - in-memory</b></p>\n",
       "                \n",
       "        <div>\n",
       "            <p><b>SparkContext</b></p>\n",
       "\n",
       "            <p><a href=\"http://DESKTOP-O9UJUJO.mshome.net:4043\">Spark UI</a></p>\n",
       "\n",
       "            <dl>\n",
       "              <dt>Version</dt>\n",
       "                <dd><code>v3.1.1</code></dd>\n",
       "              <dt>Master</dt>\n",
       "                <dd><code>local[*]</code></dd>\n",
       "              <dt>AppName</dt>\n",
       "                <dd><code>Filter Data</code></dd>\n",
       "            </dl>\n",
       "        </div>\n",
       "        \n",
       "            </div>\n",
       "        "
      ],
      "text/plain": [
       "<pyspark.sql.session.SparkSession at 0x21bfc259ef0>"
      ]
     },
     "execution_count": 3,
     "metadata": {},
     "output_type": "execute_result"
    }
   ],
   "source": [
    "spark"
   ]
  },
  {
   "cell_type": "markdown",
   "id": "76631fb4",
   "metadata": {},
   "source": [
    "### Create DataFrame with sample data"
   ]
  },
  {
   "cell_type": "code",
   "execution_count": 4,
   "id": "a255db32",
   "metadata": {},
   "outputs": [],
   "source": [
    "data = [\n",
    "    (\"Satish\", \"Kumar\", 14, 80000.),\n",
    "    (\"Ramya\", \"Sree\", 5, 50000.),\n",
    "    (\"Tejaswini\", \"Uppara\", 3, 30000.),\n",
    "    (\"Bhavishya\", \"Uppara\", 2, 20000.),\n",
    "]\n",
    "\n",
    "df = spark.createDataFrame(\n",
    "    data, schema='first_name string, second_name string, experience int, salary double'\n",
    ")"
   ]
  },
  {
   "cell_type": "code",
   "execution_count": 5,
   "id": "c9759110",
   "metadata": {},
   "outputs": [
    {
     "name": "stdout",
     "output_type": "stream",
     "text": [
      "root\n",
      " |-- first_name: string (nullable = true)\n",
      " |-- second_name: string (nullable = true)\n",
      " |-- experience: integer (nullable = true)\n",
      " |-- salary: double (nullable = true)\n",
      "\n"
     ]
    }
   ],
   "source": [
    "df.printSchema()"
   ]
  },
  {
   "cell_type": "code",
   "execution_count": 6,
   "id": "7f948455",
   "metadata": {},
   "outputs": [
    {
     "name": "stdout",
     "output_type": "stream",
     "text": [
      "+----------+-----------+----------+-------+\n",
      "|first_name|second_name|experience|salary |\n",
      "+----------+-----------+----------+-------+\n",
      "|Satish    |Kumar      |14        |80000.0|\n",
      "|Ramya     |Sree       |5         |50000.0|\n",
      "|Tejaswini |Uppara     |3         |30000.0|\n",
      "|Bhavishya |Uppara     |2         |20000.0|\n",
      "+----------+-----------+----------+-------+\n",
      "\n"
     ]
    }
   ],
   "source": [
    "df.show(truncate=False)"
   ]
  },
  {
   "cell_type": "markdown",
   "id": "1ab5eba2",
   "metadata": {},
   "source": [
    "### Filter Data"
   ]
  },
  {
   "cell_type": "code",
   "execution_count": 7,
   "id": "6aeb24c0",
   "metadata": {},
   "outputs": [
    {
     "name": "stdout",
     "output_type": "stream",
     "text": [
      "+----------+-----------+----------+-------+\n",
      "|first_name|second_name|experience| salary|\n",
      "+----------+-----------+----------+-------+\n",
      "|    Satish|      Kumar|        14|80000.0|\n",
      "+----------+-----------+----------+-------+\n",
      "\n"
     ]
    }
   ],
   "source": [
    "# Get the people who had experience more than 10 \n",
    "df.filter(\"experience > 10\").show()"
   ]
  },
  {
   "cell_type": "code",
   "execution_count": 8,
   "id": "c2c254b9",
   "metadata": {},
   "outputs": [
    {
     "name": "stdout",
     "output_type": "stream",
     "text": [
      "+----------+-----------+----------+-------+\n",
      "|first_name|second_name|experience| salary|\n",
      "+----------+-----------+----------+-------+\n",
      "| Tejaswini|     Uppara|         3|30000.0|\n",
      "| Bhavishya|     Uppara|         2|20000.0|\n",
      "+----------+-----------+----------+-------+\n",
      "\n"
     ]
    }
   ],
   "source": [
    "### Get the people who had Salary of less than or equal to 30000\n",
    "df.filter(\"salary<=30000\").show()"
   ]
  },
  {
   "cell_type": "code",
   "execution_count": 9,
   "id": "05ca9944",
   "metadata": {},
   "outputs": [
    {
     "name": "stdout",
     "output_type": "stream",
     "text": [
      "+----------+-----------+----------+-------+\n",
      "|first_name|second_name|experience| salary|\n",
      "+----------+-----------+----------+-------+\n",
      "| Tejaswini|     Uppara|         3|30000.0|\n",
      "| Bhavishya|     Uppara|         2|20000.0|\n",
      "+----------+-----------+----------+-------+\n",
      "\n"
     ]
    }
   ],
   "source": [
    "df.filter(df['salary'] <= 30000).show()"
   ]
  },
  {
   "cell_type": "code",
   "execution_count": 10,
   "id": "42840934",
   "metadata": {},
   "outputs": [
    {
     "name": "stdout",
     "output_type": "stream",
     "text": [
      "+----------+-----------+----------+-------+\n",
      "|first_name|second_name|experience| salary|\n",
      "+----------+-----------+----------+-------+\n",
      "| Tejaswini|     Uppara|         3|30000.0|\n",
      "| Bhavishya|     Uppara|         2|20000.0|\n",
      "+----------+-----------+----------+-------+\n",
      "\n"
     ]
    }
   ],
   "source": [
    "df.filter(df.salary <= 30000).show()"
   ]
  },
  {
   "cell_type": "code",
   "execution_count": 11,
   "id": "bf6da209",
   "metadata": {},
   "outputs": [
    {
     "name": "stdout",
     "output_type": "stream",
     "text": [
      "+----------+-----------+\n",
      "|first_name|second_name|\n",
      "+----------+-----------+\n",
      "|Tejaswini |Uppara     |\n",
      "|Bhavishya |Uppara     |\n",
      "+----------+-----------+\n",
      "\n"
     ]
    }
   ],
   "source": [
    "### Get the names of people who had Salary of less than or equal to 30000\n",
    "df.filter(\"salary<=30000\").select('first_name', 'second_name').show(truncate = False)"
   ]
  },
  {
   "cell_type": "markdown",
   "id": "576512cd",
   "metadata": {},
   "source": [
    "#### Mutiliple Conditions"
   ]
  },
  {
   "cell_type": "code",
   "execution_count": 12,
   "id": "a1aa2445",
   "metadata": {},
   "outputs": [
    {
     "name": "stdout",
     "output_type": "stream",
     "text": [
      "+----------+-----------+----------+-------+\n",
      "|first_name|second_name|experience| salary|\n",
      "+----------+-----------+----------+-------+\n",
      "|     Ramya|       Sree|         5|50000.0|\n",
      "| Tejaswini|     Uppara|         3|30000.0|\n",
      "| Bhavishya|     Uppara|         2|20000.0|\n",
      "+----------+-----------+----------+-------+\n",
      "\n"
     ]
    }
   ],
   "source": [
    "df.filter((df['salary']<=20000) | (df['salary']<=50000)).show()"
   ]
  },
  {
   "cell_type": "code",
   "execution_count": 13,
   "id": "bd7ae69d",
   "metadata": {},
   "outputs": [
    {
     "name": "stdout",
     "output_type": "stream",
     "text": [
      "+----------+-----------+----------+-------+\n",
      "|first_name|second_name|experience| salary|\n",
      "+----------+-----------+----------+-------+\n",
      "|     Ramya|       Sree|         5|50000.0|\n",
      "| Tejaswini|     Uppara|         3|30000.0|\n",
      "| Bhavishya|     Uppara|         2|20000.0|\n",
      "+----------+-----------+----------+-------+\n",
      "\n"
     ]
    }
   ],
   "source": [
    "df.filter(\"(salary <=20000) or (salary <=50000)\").show()"
   ]
  },
  {
   "cell_type": "code",
   "execution_count": 14,
   "id": "b3d5f9ab",
   "metadata": {},
   "outputs": [
    {
     "name": "stdout",
     "output_type": "stream",
     "text": [
      "+----------+-----------+----------+-------+\n",
      "|first_name|second_name|experience| salary|\n",
      "+----------+-----------+----------+-------+\n",
      "|    Satish|      Kumar|        14|80000.0|\n",
      "|     Ramya|       Sree|         5|50000.0|\n",
      "| Tejaswini|     Uppara|         3|30000.0|\n",
      "+----------+-----------+----------+-------+\n",
      "\n"
     ]
    }
   ],
   "source": [
    "df.filter(~(df['salary']<=20000)).show()"
   ]
  },
  {
   "cell_type": "code",
   "execution_count": null,
   "id": "9c15d591",
   "metadata": {},
   "outputs": [],
   "source": []
  }
 ],
 "metadata": {
  "kernelspec": {
   "display_name": "Python 3",
   "language": "python",
   "name": "python3"
  },
  "language_info": {
   "codemirror_mode": {
    "name": "ipython",
    "version": 3
   },
   "file_extension": ".py",
   "mimetype": "text/x-python",
   "name": "python",
   "nbconvert_exporter": "python",
   "pygments_lexer": "ipython3",
   "version": "3.6.9"
  }
 },
 "nbformat": 4,
 "nbformat_minor": 5
}
