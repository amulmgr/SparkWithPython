{
 "cells": [
  {
   "cell_type": "code",
   "execution_count": 1,
   "id": "51734f07",
   "metadata": {},
   "outputs": [],
   "source": [
    "# Import Required modules\n",
    "\n",
    "from __future__ import print_function\n",
    "import findspark\n",
    "findspark.init()\n",
    "import pyspark\n",
    "from pyspark.sql import SparkSession"
   ]
  },
  {
   "cell_type": "code",
   "execution_count": 2,
   "id": "81aacac9",
   "metadata": {},
   "outputs": [],
   "source": [
    "spark = SparkSession.builder.appName(\"View Dataframes\").getOrCreate()"
   ]
  },
  {
   "cell_type": "markdown",
   "id": "28ccc4ef",
   "metadata": {},
   "source": [
    "## Create DataFrame"
   ]
  },
  {
   "cell_type": "code",
   "execution_count": 3,
   "id": "e027d790",
   "metadata": {},
   "outputs": [],
   "source": [
    "from datetime import datetime, date\n",
    "data = [\n",
    "    (1, 1., 'abc', date(2020, 1, 1), datetime(2020, 1, 1, 12, 0)),\n",
    "    (2, 2., 'xyz', date(2020, 2, 1), datetime(2020, 1, 2, 12, 0)),\n",
    "    (3, 3., 'a12', date(2020, 3, 1), datetime(2020, 1, 3, 12, 0))\n",
    "]\n",
    "\n",
    "df = spark.createDataFrame(\n",
    "    data, schema='col1 long, col2 double, col3 string, col4 date, col5 timestamp'\n",
    ")"
   ]
  },
  {
   "cell_type": "code",
   "execution_count": 4,
   "id": "d8216449",
   "metadata": {},
   "outputs": [
    {
     "data": {
      "text/plain": [
       "DataFrame[col1: bigint, col2: double, col3: string, col4: date, col5: timestamp]"
      ]
     },
     "execution_count": 4,
     "metadata": {},
     "output_type": "execute_result"
    }
   ],
   "source": [
    "df"
   ]
  },
  {
   "cell_type": "markdown",
   "id": "8d2aae6f",
   "metadata": {},
   "source": [
    "## View DataFrame"
   ]
  },
  {
   "cell_type": "code",
   "execution_count": 5,
   "id": "1252fec4",
   "metadata": {},
   "outputs": [
    {
     "name": "stdout",
     "output_type": "stream",
     "text": [
      "+----+----+----+----------+-------------------+\n",
      "|col1|col2|col3|      col4|               col5|\n",
      "+----+----+----+----------+-------------------+\n",
      "|   1| 1.0| abc|2020-01-01|2020-01-01 12:00:00|\n",
      "|   2| 2.0| xyz|2020-02-01|2020-01-02 12:00:00|\n",
      "|   3| 3.0| a12|2020-03-01|2020-01-03 12:00:00|\n",
      "+----+----+----+----------+-------------------+\n",
      "\n"
     ]
    }
   ],
   "source": [
    "df.show()"
   ]
  },
  {
   "cell_type": "code",
   "execution_count": 6,
   "id": "d52cbbef",
   "metadata": {},
   "outputs": [
    {
     "name": "stdout",
     "output_type": "stream",
     "text": [
      "+----+----+----+----------+-------------------+\n",
      "|col1|col2|col3|col4      |col5               |\n",
      "+----+----+----+----------+-------------------+\n",
      "|1   |1.0 |abc |2020-01-01|2020-01-01 12:00:00|\n",
      "+----+----+----+----------+-------------------+\n",
      "only showing top 1 row\n",
      "\n"
     ]
    }
   ],
   "source": [
    "df.show(1, truncate=False)"
   ]
  },
  {
   "cell_type": "markdown",
   "id": "6dc05d18",
   "metadata": {},
   "source": [
    "### Enable 'spark.sql.repl.eagerEval.enabled' configuration for the eager evaluation of PySpark DataFrame in notebooks such as Jupyter.\n",
    "\n",
    "### The number of rows to show can be controlled via 'spark.sql.repl.eagerEval.maxNumRows' configuration."
   ]
  },
  {
   "cell_type": "code",
   "execution_count": 7,
   "id": "15f02569",
   "metadata": {},
   "outputs": [],
   "source": [
    "spark.conf.set('spark.sql.repl.eagerEval.enabled', True)"
   ]
  },
  {
   "cell_type": "code",
   "execution_count": 8,
   "id": "cf7c3599",
   "metadata": {},
   "outputs": [
    {
     "data": {
      "text/html": [
       "<table border='1'>\n",
       "<tr><th>col1</th><th>col2</th><th>col3</th><th>col4</th><th>col5</th></tr>\n",
       "<tr><td>1</td><td>1.0</td><td>abc</td><td>2020-01-01</td><td>2020-01-01 12:00:00</td></tr>\n",
       "<tr><td>2</td><td>2.0</td><td>xyz</td><td>2020-02-01</td><td>2020-01-02 12:00:00</td></tr>\n",
       "<tr><td>3</td><td>3.0</td><td>a12</td><td>2020-03-01</td><td>2020-01-03 12:00:00</td></tr>\n",
       "</table>\n"
      ],
      "text/plain": [
       "DataFrame[col1: bigint, col2: double, col3: string, col4: date, col5: timestamp]"
      ]
     },
     "execution_count": 8,
     "metadata": {},
     "output_type": "execute_result"
    }
   ],
   "source": [
    "df"
   ]
  },
  {
   "cell_type": "code",
   "execution_count": 10,
   "id": "41c003f7",
   "metadata": {},
   "outputs": [
    {
     "name": "stdout",
     "output_type": "stream",
     "text": [
      "-RECORD 0-------------------\n",
      " col1 | 1                   \n",
      " col2 | 1.0                 \n",
      " col3 | abc                 \n",
      " col4 | 2020-01-01          \n",
      " col5 | 2020-01-01 12:00:00 \n",
      "only showing top 1 row\n",
      "\n"
     ]
    }
   ],
   "source": [
    "# The rows can also be shown vertically. This is useful when rows are too long to show horizontally.\n",
    "df.show(1, vertical=True)"
   ]
  },
  {
   "cell_type": "markdown",
   "id": "8b456b19",
   "metadata": {},
   "source": [
    "## View Schema"
   ]
  },
  {
   "cell_type": "code",
   "execution_count": 11,
   "id": "3e4cdd0b",
   "metadata": {},
   "outputs": [
    {
     "name": "stdout",
     "output_type": "stream",
     "text": [
      "root\n",
      " |-- col1: long (nullable = true)\n",
      " |-- col2: double (nullable = true)\n",
      " |-- col3: string (nullable = true)\n",
      " |-- col4: date (nullable = true)\n",
      " |-- col5: timestamp (nullable = true)\n",
      "\n"
     ]
    }
   ],
   "source": [
    "df.printSchema()"
   ]
  },
  {
   "cell_type": "code",
   "execution_count": 12,
   "id": "e85d630b",
   "metadata": {},
   "outputs": [
    {
     "data": {
      "text/plain": [
       "[('col1', 'bigint'),\n",
       " ('col2', 'double'),\n",
       " ('col3', 'string'),\n",
       " ('col4', 'date'),\n",
       " ('col5', 'timestamp')]"
      ]
     },
     "execution_count": 12,
     "metadata": {},
     "output_type": "execute_result"
    }
   ],
   "source": [
    "df.dtypes"
   ]
  },
  {
   "cell_type": "code",
   "execution_count": 13,
   "id": "96fbed46",
   "metadata": {},
   "outputs": [
    {
     "data": {
      "text/plain": [
       "['col1', 'col2', 'col3', 'col4', 'col5']"
      ]
     },
     "execution_count": 13,
     "metadata": {},
     "output_type": "execute_result"
    }
   ],
   "source": [
    "df.columns"
   ]
  },
  {
   "cell_type": "markdown",
   "id": "daf77432",
   "metadata": {},
   "source": [
    "## View Summary of the DataFrame"
   ]
  },
  {
   "cell_type": "code",
   "execution_count": 14,
   "id": "ed21cb50",
   "metadata": {},
   "outputs": [
    {
     "name": "stdout",
     "output_type": "stream",
     "text": [
      "+-------+----+----+----+\n",
      "|summary|col1|col2|col3|\n",
      "+-------+----+----+----+\n",
      "|  count|   3|   3|   3|\n",
      "|   mean| 2.0| 2.0|null|\n",
      "| stddev| 1.0| 1.0|null|\n",
      "|    min|   1| 1.0| a12|\n",
      "|    max|   3| 3.0| xyz|\n",
      "+-------+----+----+----+\n",
      "\n"
     ]
    }
   ],
   "source": [
    "df.describe().show()"
   ]
  },
  {
   "cell_type": "markdown",
   "id": "76cacfdc",
   "metadata": {},
   "source": [
    "## Convert Dataframe to Pandas"
   ]
  },
  {
   "cell_type": "code",
   "execution_count": 15,
   "id": "1d2e83a5",
   "metadata": {},
   "outputs": [
    {
     "data": {
      "text/html": [
       "<div>\n",
       "<style scoped>\n",
       "    .dataframe tbody tr th:only-of-type {\n",
       "        vertical-align: middle;\n",
       "    }\n",
       "\n",
       "    .dataframe tbody tr th {\n",
       "        vertical-align: top;\n",
       "    }\n",
       "\n",
       "    .dataframe thead th {\n",
       "        text-align: right;\n",
       "    }\n",
       "</style>\n",
       "<table border=\"1\" class=\"dataframe\">\n",
       "  <thead>\n",
       "    <tr style=\"text-align: right;\">\n",
       "      <th></th>\n",
       "      <th>col1</th>\n",
       "      <th>col2</th>\n",
       "      <th>col3</th>\n",
       "      <th>col4</th>\n",
       "      <th>col5</th>\n",
       "    </tr>\n",
       "  </thead>\n",
       "  <tbody>\n",
       "    <tr>\n",
       "      <th>0</th>\n",
       "      <td>1</td>\n",
       "      <td>1.0</td>\n",
       "      <td>abc</td>\n",
       "      <td>2020-01-01</td>\n",
       "      <td>2020-01-01 12:00:00</td>\n",
       "    </tr>\n",
       "    <tr>\n",
       "      <th>1</th>\n",
       "      <td>2</td>\n",
       "      <td>2.0</td>\n",
       "      <td>xyz</td>\n",
       "      <td>2020-02-01</td>\n",
       "      <td>2020-01-02 12:00:00</td>\n",
       "    </tr>\n",
       "    <tr>\n",
       "      <th>2</th>\n",
       "      <td>3</td>\n",
       "      <td>3.0</td>\n",
       "      <td>a12</td>\n",
       "      <td>2020-03-01</td>\n",
       "      <td>2020-01-03 12:00:00</td>\n",
       "    </tr>\n",
       "  </tbody>\n",
       "</table>\n",
       "</div>"
      ],
      "text/plain": [
       "   col1  col2 col3        col4                col5\n",
       "0     1   1.0  abc  2020-01-01 2020-01-01 12:00:00\n",
       "1     2   2.0  xyz  2020-02-01 2020-01-02 12:00:00\n",
       "2     3   3.0  a12  2020-03-01 2020-01-03 12:00:00"
      ]
     },
     "execution_count": 15,
     "metadata": {},
     "output_type": "execute_result"
    }
   ],
   "source": [
    "df.toPandas()"
   ]
  },
  {
   "cell_type": "markdown",
   "id": "c1e414b2",
   "metadata": {},
   "source": [
    "## Selecting and Accessing Data"
   ]
  },
  {
   "cell_type": "code",
   "execution_count": 21,
   "id": "f5c8eb76",
   "metadata": {},
   "outputs": [
    {
     "data": {
      "text/plain": [
       "Column<'col3'>"
      ]
     },
     "execution_count": 21,
     "metadata": {},
     "output_type": "execute_result"
    }
   ],
   "source": [
    "df.col3"
   ]
  },
  {
   "cell_type": "code",
   "execution_count": 22,
   "id": "709a3d0f",
   "metadata": {},
   "outputs": [
    {
     "data": {
      "text/plain": [
       "pyspark.sql.column.Column"
      ]
     },
     "execution_count": 22,
     "metadata": {},
     "output_type": "execute_result"
    }
   ],
   "source": [
    "type(df.col3)"
   ]
  },
  {
   "cell_type": "code",
   "execution_count": 24,
   "id": "be8cff2b",
   "metadata": {},
   "outputs": [
    {
     "name": "stdout",
     "output_type": "stream",
     "text": [
      "+----+----+\n",
      "|col1|col3|\n",
      "+----+----+\n",
      "|   1| abc|\n",
      "|   2| xyz|\n",
      "|   3| a12|\n",
      "+----+----+\n",
      "\n"
     ]
    }
   ],
   "source": [
    "df.select(df.col1, df.col3).show()"
   ]
  },
  {
   "cell_type": "markdown",
   "id": "8304ac43",
   "metadata": {},
   "source": [
    "DataFrame.select() takes the Column instances that returns another DataFrame."
   ]
  },
  {
   "cell_type": "code",
   "execution_count": 26,
   "id": "2951ed96",
   "metadata": {},
   "outputs": [
    {
     "name": "stdout",
     "output_type": "stream",
     "text": [
      "+----+----+\n",
      "|col1|col2|\n",
      "+----+----+\n",
      "|   1| 1.0|\n",
      "|   2| 2.0|\n",
      "|   3| 3.0|\n",
      "+----+----+\n",
      "\n"
     ]
    }
   ],
   "source": [
    "df.select('col1','col2').show()"
   ]
  },
  {
   "cell_type": "code",
   "execution_count": 27,
   "id": "4cc78b02",
   "metadata": {},
   "outputs": [
    {
     "name": "stdout",
     "output_type": "stream",
     "text": [
      "+----+----+\n",
      "|col1|col3|\n",
      "+----+----+\n",
      "|   1| abc|\n",
      "|   2| xyz|\n",
      "|   3| a12|\n",
      "+----+----+\n",
      "\n"
     ]
    }
   ],
   "source": [
    "cols = ['col1','col3']\n",
    "df.select(*cols).show()"
   ]
  },
  {
   "cell_type": "code",
   "execution_count": null,
   "id": "699dee09",
   "metadata": {},
   "outputs": [],
   "source": []
  }
 ],
 "metadata": {
  "kernelspec": {
   "display_name": "Python 3",
   "language": "python",
   "name": "python3"
  },
  "language_info": {
   "codemirror_mode": {
    "name": "ipython",
    "version": 3
   },
   "file_extension": ".py",
   "mimetype": "text/x-python",
   "name": "python",
   "nbconvert_exporter": "python",
   "pygments_lexer": "ipython3",
   "version": "3.6.9"
  }
 },
 "nbformat": 4,
 "nbformat_minor": 5
}
