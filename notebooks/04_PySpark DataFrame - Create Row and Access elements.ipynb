{
 "cells": [
  {
   "cell_type": "markdown",
   "id": "3aa9e025",
   "metadata": {},
   "source": [
    "### Import Required modules and initialize SparkSession"
   ]
  },
  {
   "cell_type": "code",
   "execution_count": 7,
   "id": "5dde906d",
   "metadata": {},
   "outputs": [],
   "source": [
    "from __future__ import print_function\n",
    "import findspark\n",
    "findspark.init()\n",
    "import pyspark\n",
    "from pyspark.sql import SparkSession"
   ]
  },
  {
   "cell_type": "code",
   "execution_count": 8,
   "id": "2a796fa5",
   "metadata": {},
   "outputs": [],
   "source": [
    "spark = SparkSession.builder.appName(\"PySpark Row API\").getOrCreate()"
   ]
  },
  {
   "cell_type": "code",
   "execution_count": 9,
   "id": "b679f83c",
   "metadata": {},
   "outputs": [
    {
     "data": {
      "text/html": [
       "\n",
       "            <div>\n",
       "                <p><b>SparkSession - in-memory</b></p>\n",
       "                \n",
       "        <div>\n",
       "            <p><b>SparkContext</b></p>\n",
       "\n",
       "            <p><a href=\"http://DESKTOP-O9UJUJO.mshome.net:4045\">Spark UI</a></p>\n",
       "\n",
       "            <dl>\n",
       "              <dt>Version</dt>\n",
       "                <dd><code>v3.1.1</code></dd>\n",
       "              <dt>Master</dt>\n",
       "                <dd><code>local[*]</code></dd>\n",
       "              <dt>AppName</dt>\n",
       "                <dd><code>PySpark Row API</code></dd>\n",
       "            </dl>\n",
       "        </div>\n",
       "        \n",
       "            </div>\n",
       "        "
      ],
      "text/plain": [
       "<pyspark.sql.session.SparkSession at 0x1da7dd040f0>"
      ]
     },
     "execution_count": 9,
     "metadata": {},
     "output_type": "execute_result"
    }
   ],
   "source": [
    "spark"
   ]
  },
  {
   "cell_type": "markdown",
   "id": "2695ae3c",
   "metadata": {},
   "source": [
    "### Row\n",
    "\n",
    "A row in DataFrame. \n",
    "\n",
    "- Create Row:\n",
    "    - Row can be used to create a row object by using named arguments, the fields will be sorted by names. \n",
    "    - It is not allowed to omit a named argument to represent the value is None or missing. This should be explicitly set to None in this case.\n",
    "\n",
    "- Accessing fiels in Row:\n",
    "  - Accessing fields/keys in Row will access through row keys\n",
    "      - like attributes (row.key)\n",
    "      - like dictionary values (row[key])   "
   ]
  },
  {
   "cell_type": "markdown",
   "id": "3684ff3c",
   "metadata": {},
   "source": [
    "### Import PySpark Row API"
   ]
  },
  {
   "cell_type": "code",
   "execution_count": 12,
   "id": "449d62b4",
   "metadata": {},
   "outputs": [],
   "source": [
    "from pyspark.sql import Row"
   ]
  },
  {
   "cell_type": "markdown",
   "id": "9caf54ec",
   "metadata": {},
   "source": [
    "### Create Row Object"
   ]
  },
  {
   "cell_type": "code",
   "execution_count": 14,
   "id": "761af947",
   "metadata": {},
   "outputs": [
    {
     "data": {
      "text/plain": [
       "Row(name='Bhavishya', age=6)"
      ]
     },
     "execution_count": 14,
     "metadata": {},
     "output_type": "execute_result"
    }
   ],
   "source": [
    "row = Row(name=\"Bhavishya\", age=6)\n",
    "row"
   ]
  },
  {
   "cell_type": "markdown",
   "id": "9a9eae9c",
   "metadata": {},
   "source": [
    "#### Row also can be used to create another Row like class, then it could be used to create Row objects, such as"
   ]
  },
  {
   "cell_type": "code",
   "execution_count": 15,
   "id": "f533620d",
   "metadata": {},
   "outputs": [
    {
     "data": {
      "text/plain": [
       "<Row('name', 'age')>"
      ]
     },
     "execution_count": 15,
     "metadata": {},
     "output_type": "execute_result"
    }
   ],
   "source": [
    "Person = Row(\"name\", \"age\")\n",
    "Person"
   ]
  },
  {
   "cell_type": "code",
   "execution_count": 28,
   "id": "67d1c2c6",
   "metadata": {},
   "outputs": [
    {
     "data": {
      "text/plain": [
       "pyspark.sql.types.Row"
      ]
     },
     "execution_count": 28,
     "metadata": {},
     "output_type": "execute_result"
    }
   ],
   "source": [
    "type(Person)"
   ]
  },
  {
   "cell_type": "code",
   "execution_count": 17,
   "id": "2fd73801",
   "metadata": {},
   "outputs": [
    {
     "data": {
      "text/plain": [
       "Row(name='Bhavishya', age=6)"
      ]
     },
     "execution_count": 17,
     "metadata": {},
     "output_type": "execute_result"
    }
   ],
   "source": [
    "row1 = Person(\"Bhavishya\", 6)\n",
    "row1"
   ]
  },
  {
   "cell_type": "code",
   "execution_count": 29,
   "id": "89513d3c",
   "metadata": {},
   "outputs": [
    {
     "data": {
      "text/plain": [
       "pyspark.sql.types.Row"
      ]
     },
     "execution_count": 29,
     "metadata": {},
     "output_type": "execute_result"
    }
   ],
   "source": [
    "type(row1)"
   ]
  },
  {
   "cell_type": "markdown",
   "id": "2db499cb",
   "metadata": {},
   "source": [
    "### Accessing Elements in Row\n",
    "- Accessing fields/keys in Row will access through row keys\n",
    "        - like attributes (row.key)\n",
    "        - like dictionary values (row[key])   "
   ]
  },
  {
   "cell_type": "code",
   "execution_count": 19,
   "id": "99a7fa27",
   "metadata": {},
   "outputs": [
    {
     "data": {
      "text/plain": [
       "Row(name='Bhavishya', age=6)"
      ]
     },
     "execution_count": 19,
     "metadata": {},
     "output_type": "execute_result"
    }
   ],
   "source": [
    "row"
   ]
  },
  {
   "cell_type": "code",
   "execution_count": 20,
   "id": "58f8d459",
   "metadata": {},
   "outputs": [
    {
     "data": {
      "text/plain": [
       "'Bhavishya'"
      ]
     },
     "execution_count": 20,
     "metadata": {},
     "output_type": "execute_result"
    }
   ],
   "source": [
    "row.name"
   ]
  },
  {
   "cell_type": "code",
   "execution_count": 21,
   "id": "4740002e",
   "metadata": {},
   "outputs": [
    {
     "data": {
      "text/plain": [
       "6"
      ]
     },
     "execution_count": 21,
     "metadata": {},
     "output_type": "execute_result"
    }
   ],
   "source": [
    "row['age']"
   ]
  },
  {
   "cell_type": "code",
   "execution_count": 24,
   "id": "7c94bd1f",
   "metadata": {},
   "outputs": [
    {
     "data": {
      "text/plain": [
       "('Bhavishya', 6)"
      ]
     },
     "execution_count": 24,
     "metadata": {},
     "output_type": "execute_result"
    }
   ],
   "source": [
    "data = row.name,row.age\n",
    "data"
   ]
  },
  {
   "cell_type": "code",
   "execution_count": 25,
   "id": "8dc0a34d",
   "metadata": {},
   "outputs": [
    {
     "data": {
      "text/plain": [
       "tuple"
      ]
     },
     "execution_count": 25,
     "metadata": {},
     "output_type": "execute_result"
    }
   ],
   "source": [
    "type(data)"
   ]
  },
  {
   "cell_type": "markdown",
   "id": "bb3c2beb",
   "metadata": {},
   "source": [
    "#### Check is key/column in Row "
   ]
  },
  {
   "cell_type": "code",
   "execution_count": 26,
   "id": "f1bddc0e",
   "metadata": {},
   "outputs": [
    {
     "data": {
      "text/plain": [
       "True"
      ]
     },
     "execution_count": 26,
     "metadata": {},
     "output_type": "execute_result"
    }
   ],
   "source": [
    "'name' in row"
   ]
  },
  {
   "cell_type": "code",
   "execution_count": 27,
   "id": "c784082f",
   "metadata": {},
   "outputs": [
    {
     "data": {
      "text/plain": [
       "False"
      ]
     },
     "execution_count": 27,
     "metadata": {},
     "output_type": "execute_result"
    }
   ],
   "source": [
    "'city' in row"
   ]
  },
  {
   "cell_type": "markdown",
   "id": "2477435e",
   "metadata": {},
   "source": [
    "### Get Row as Python Dict"
   ]
  },
  {
   "cell_type": "code",
   "execution_count": 31,
   "id": "f3a9f511",
   "metadata": {},
   "outputs": [
    {
     "data": {
      "text/plain": [
       "{'name': 'Bhavishya', 'age': 6}"
      ]
     },
     "execution_count": 31,
     "metadata": {},
     "output_type": "execute_result"
    }
   ],
   "source": [
    "row.asDict()"
   ]
  },
  {
   "cell_type": "code",
   "execution_count": 34,
   "id": "bc188207",
   "metadata": {},
   "outputs": [
    {
     "data": {
      "text/plain": [
       "Row(emp_id=1, value=Row(name='Bhivishya', age=6))"
      ]
     },
     "execution_count": 34,
     "metadata": {},
     "output_type": "execute_result"
    }
   ],
   "source": [
    "r = Row(emp_id=1, value=Row(name='Bhivishya', age=6))\n",
    "r"
   ]
  },
  {
   "cell_type": "code",
   "execution_count": 37,
   "id": "c549518b",
   "metadata": {},
   "outputs": [
    {
     "data": {
      "text/plain": [
       "{'emp_id': 1, 'value': Row(name='Bhivishya', age=6)}"
      ]
     },
     "execution_count": 37,
     "metadata": {},
     "output_type": "execute_result"
    }
   ],
   "source": [
    "r.asDict()"
   ]
  },
  {
   "cell_type": "code",
   "execution_count": 38,
   "id": "ab4f86e0",
   "metadata": {},
   "outputs": [
    {
     "data": {
      "text/plain": [
       "{'emp_id': 1, 'value': {'name': 'Bhivishya', 'age': 6}}"
      ]
     },
     "execution_count": 38,
     "metadata": {},
     "output_type": "execute_result"
    }
   ],
   "source": [
    "r.asDict(recursive=True)"
   ]
  },
  {
   "cell_type": "markdown",
   "id": "5979ebf9",
   "metadata": {},
   "source": [
    "Note : recursive – turns the nested Row as dict (default: False)."
   ]
  },
  {
   "cell_type": "raw",
   "id": "b1635448",
   "metadata": {},
   "source": [
    "Note If a row contains duplicate field names, e.g., the rows of a join between two DataFrame that both have the fields of same names, one of the duplicate fields will be selected by asDict. __getitem__ will also return one of the duplicate fields, however returned value might be different to asDict."
   ]
  },
  {
   "cell_type": "markdown",
   "id": "4d2f04d3",
   "metadata": {},
   "source": [
    "## Create Dataframe with list of Rows"
   ]
  },
  {
   "cell_type": "code",
   "execution_count": 39,
   "id": "75f28805",
   "metadata": {},
   "outputs": [],
   "source": [
    "df = spark.createDataFrame([\n",
    "    Row(name='Bhavishya', age=6),\n",
    "    Row(name='Teja', age=9),\n",
    "])"
   ]
  },
  {
   "cell_type": "code",
   "execution_count": 40,
   "id": "249468db",
   "metadata": {},
   "outputs": [
    {
     "name": "stdout",
     "output_type": "stream",
     "text": [
      "+---------+---+\n",
      "|     name|age|\n",
      "+---------+---+\n",
      "|Bhavishya|  6|\n",
      "|     Teja|  9|\n",
      "+---------+---+\n",
      "\n"
     ]
    }
   ],
   "source": [
    "df.show()"
   ]
  }
 ],
 "metadata": {
  "kernelspec": {
   "display_name": "Python 3",
   "language": "python",
   "name": "python3"
  },
  "language_info": {
   "codemirror_mode": {
    "name": "ipython",
    "version": 3
   },
   "file_extension": ".py",
   "mimetype": "text/x-python",
   "name": "python",
   "nbconvert_exporter": "python",
   "pygments_lexer": "ipython3",
   "version": "3.6.9"
  }
 },
 "nbformat": 4,
 "nbformat_minor": 5
}
