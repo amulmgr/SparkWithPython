{
 "cells": [
  {
   "cell_type": "code",
   "execution_count": 1,
   "id": "c7a0b5c8",
   "metadata": {},
   "outputs": [],
   "source": [
    "# Import Required modules\n",
    "\n",
    "from __future__ import print_function\n",
    "import findspark\n",
    "findspark.init()\n",
    "import pyspark\n",
    "from pyspark.sql import SparkSession"
   ]
  },
  {
   "cell_type": "code",
   "execution_count": 2,
   "id": "e7f7abc5",
   "metadata": {},
   "outputs": [],
   "source": [
    "spark = SparkSession.builder.appName(\"View Dataframes\").getOrCreate()"
   ]
  },
  {
   "cell_type": "markdown",
   "id": "c9eb24d4",
   "metadata": {},
   "source": [
    "## Create DataFrame"
   ]
  },
  {
   "cell_type": "code",
   "execution_count": 3,
   "id": "f7a29d80",
   "metadata": {},
   "outputs": [],
   "source": [
    "from datetime import datetime, date\n",
    "data = [\n",
    "    (1, 1., 'abc', date(2020, 1, 1), datetime(2020, 1, 1, 12, 0)),\n",
    "    (2, 2., 'xyz', date(2020, 2, 1), datetime(2020, 1, 2, 12, 0)),\n",
    "    (3, 3., 'a12', date(2020, 3, 1), datetime(2020, 1, 3, 12, 0))\n",
    "]\n",
    "\n",
    "df = spark.createDataFrame(\n",
    "    data, schema='col1 long, col2 double, col3 string, col4 date, col5 timestamp'\n",
    ")"
   ]
  },
  {
   "cell_type": "code",
   "execution_count": 4,
   "id": "6b9fc332",
   "metadata": {},
   "outputs": [
    {
     "data": {
      "text/plain": [
       "DataFrame[col1: bigint, col2: double, col3: string, col4: date, col5: timestamp]"
      ]
     },
     "execution_count": 4,
     "metadata": {},
     "output_type": "execute_result"
    }
   ],
   "source": [
    "df"
   ]
  },
  {
   "cell_type": "markdown",
   "id": "27a9af14",
   "metadata": {},
   "source": [
    "## View DataFrame"
   ]
  },
  {
   "cell_type": "code",
   "execution_count": 5,
   "id": "d5ee5891",
   "metadata": {},
   "outputs": [
    {
     "name": "stdout",
     "output_type": "stream",
     "text": [
      "+----+----+----+----------+-------------------+\n",
      "|col1|col2|col3|      col4|               col5|\n",
      "+----+----+----+----------+-------------------+\n",
      "|   1| 1.0| abc|2020-01-01|2020-01-01 12:00:00|\n",
      "|   2| 2.0| xyz|2020-02-01|2020-01-02 12:00:00|\n",
      "|   3| 3.0| a12|2020-03-01|2020-01-03 12:00:00|\n",
      "+----+----+----+----------+-------------------+\n",
      "\n"
     ]
    }
   ],
   "source": [
    "df.show()"
   ]
  },
  {
   "cell_type": "code",
   "execution_count": 6,
   "id": "1343f7f0",
   "metadata": {},
   "outputs": [
    {
     "name": "stdout",
     "output_type": "stream",
     "text": [
      "+----+----+----+----------+-------------------+\n",
      "|col1|col2|col3|col4      |col5               |\n",
      "+----+----+----+----------+-------------------+\n",
      "|1   |1.0 |abc |2020-01-01|2020-01-01 12:00:00|\n",
      "+----+----+----+----------+-------------------+\n",
      "only showing top 1 row\n",
      "\n"
     ]
    }
   ],
   "source": [
    "df.show(1, truncate=False)"
   ]
  },
  {
   "cell_type": "markdown",
   "id": "79ff4b8b",
   "metadata": {},
   "source": [
    "### Enable 'spark.sql.repl.eagerEval.enabled' configuration for the eager evaluation of PySpark DataFrame in notebooks such as Jupyter.\n",
    "\n",
    "### The number of rows to show can be controlled via 'spark.sql.repl.eagerEval.maxNumRows' configuration."
   ]
  },
  {
   "cell_type": "code",
   "execution_count": 7,
   "id": "3e0b4170",
   "metadata": {},
   "outputs": [],
   "source": [
    "spark.conf.set('spark.sql.repl.eagerEval.enabled', True)"
   ]
  },
  {
   "cell_type": "code",
   "execution_count": 8,
   "id": "1115731f",
   "metadata": {},
   "outputs": [
    {
     "data": {
      "text/html": [
       "<table border='1'>\n",
       "<tr><th>col1</th><th>col2</th><th>col3</th><th>col4</th><th>col5</th></tr>\n",
       "<tr><td>1</td><td>1.0</td><td>abc</td><td>2020-01-01</td><td>2020-01-01 12:00:00</td></tr>\n",
       "<tr><td>2</td><td>2.0</td><td>xyz</td><td>2020-02-01</td><td>2020-01-02 12:00:00</td></tr>\n",
       "<tr><td>3</td><td>3.0</td><td>a12</td><td>2020-03-01</td><td>2020-01-03 12:00:00</td></tr>\n",
       "</table>\n"
      ],
      "text/plain": [
       "DataFrame[col1: bigint, col2: double, col3: string, col4: date, col5: timestamp]"
      ]
     },
     "execution_count": 8,
     "metadata": {},
     "output_type": "execute_result"
    }
   ],
   "source": [
    "df"
   ]
  },
  {
   "cell_type": "code",
   "execution_count": 9,
   "id": "dd4299c3",
   "metadata": {},
   "outputs": [
    {
     "name": "stdout",
     "output_type": "stream",
     "text": [
      "-RECORD 0-------------------\n",
      " col1 | 1                   \n",
      " col2 | 1.0                 \n",
      " col3 | abc                 \n",
      " col4 | 2020-01-01          \n",
      " col5 | 2020-01-01 12:00:00 \n",
      "only showing top 1 row\n",
      "\n"
     ]
    }
   ],
   "source": [
    "# The rows can also be shown vertically. This is useful when rows are too long to show horizontally.\n",
    "df.show(1, vertical=True)"
   ]
  },
  {
   "cell_type": "markdown",
   "id": "8808483d",
   "metadata": {},
   "source": [
    "## View Schema"
   ]
  },
  {
   "cell_type": "code",
   "execution_count": 10,
   "id": "14598e05",
   "metadata": {},
   "outputs": [
    {
     "name": "stdout",
     "output_type": "stream",
     "text": [
      "root\n",
      " |-- col1: long (nullable = true)\n",
      " |-- col2: double (nullable = true)\n",
      " |-- col3: string (nullable = true)\n",
      " |-- col4: date (nullable = true)\n",
      " |-- col5: timestamp (nullable = true)\n",
      "\n"
     ]
    }
   ],
   "source": [
    "df.printSchema()"
   ]
  },
  {
   "cell_type": "code",
   "execution_count": 11,
   "id": "f75bdf63",
   "metadata": {},
   "outputs": [
    {
     "data": {
      "text/plain": [
       "[('col1', 'bigint'),\n",
       " ('col2', 'double'),\n",
       " ('col3', 'string'),\n",
       " ('col4', 'date'),\n",
       " ('col5', 'timestamp')]"
      ]
     },
     "execution_count": 11,
     "metadata": {},
     "output_type": "execute_result"
    }
   ],
   "source": [
    "df.dtypes"
   ]
  },
  {
   "cell_type": "code",
   "execution_count": 12,
   "id": "02604e67",
   "metadata": {},
   "outputs": [
    {
     "data": {
      "text/plain": [
       "['col1', 'col2', 'col3', 'col4', 'col5']"
      ]
     },
     "execution_count": 12,
     "metadata": {},
     "output_type": "execute_result"
    }
   ],
   "source": [
    "df.columns"
   ]
  },
  {
   "cell_type": "markdown",
   "id": "47214025",
   "metadata": {},
   "source": [
    "## View Summary of the DataFrame"
   ]
  },
  {
   "cell_type": "code",
   "execution_count": 13,
   "id": "36dbc56d",
   "metadata": {},
   "outputs": [
    {
     "name": "stdout",
     "output_type": "stream",
     "text": [
      "+-------+----+----+----+\n",
      "|summary|col1|col2|col3|\n",
      "+-------+----+----+----+\n",
      "|  count|   3|   3|   3|\n",
      "|   mean| 2.0| 2.0|null|\n",
      "| stddev| 1.0| 1.0|null|\n",
      "|    min|   1| 1.0| a12|\n",
      "|    max|   3| 3.0| xyz|\n",
      "+-------+----+----+----+\n",
      "\n"
     ]
    }
   ],
   "source": [
    "df.describe().show()"
   ]
  },
  {
   "cell_type": "markdown",
   "id": "339f12ab",
   "metadata": {},
   "source": [
    "The describe() function return the summary statistics."
   ]
  },
  {
   "cell_type": "code",
   "execution_count": 14,
   "id": "a7618f41",
   "metadata": {},
   "outputs": [
    {
     "name": "stdout",
     "output_type": "stream",
     "text": [
      "+-------+----+----+\n",
      "|summary|col1|col3|\n",
      "+-------+----+----+\n",
      "|  count|   3|   3|\n",
      "|   mean| 2.0|null|\n",
      "| stddev| 1.0|null|\n",
      "|    min|   1| a12|\n",
      "|    max|   3| xyz|\n",
      "+-------+----+----+\n",
      "\n"
     ]
    }
   ],
   "source": [
    "df.describe(['col1','col3']).show()"
   ]
  },
  {
   "cell_type": "markdown",
   "id": "fb5b8215",
   "metadata": {},
   "source": [
    "The summary() function is similar to the describe() function but it provides addition details 25,50, 75 quantiles."
   ]
  },
  {
   "cell_type": "code",
   "execution_count": 15,
   "id": "70f3b0a8",
   "metadata": {},
   "outputs": [
    {
     "data": {
      "text/html": [
       "<table border='1'>\n",
       "<tr><th>summary</th><th>col1</th><th>col2</th><th>col3</th></tr>\n",
       "<tr><td>count</td><td>3</td><td>3</td><td>3</td></tr>\n",
       "<tr><td>mean</td><td>2.0</td><td>2.0</td><td>null</td></tr>\n",
       "<tr><td>stddev</td><td>1.0</td><td>1.0</td><td>null</td></tr>\n",
       "<tr><td>min</td><td>1</td><td>1.0</td><td>a12</td></tr>\n",
       "<tr><td>25%</td><td>1</td><td>1.0</td><td>null</td></tr>\n",
       "<tr><td>50%</td><td>2</td><td>2.0</td><td>null</td></tr>\n",
       "<tr><td>75%</td><td>3</td><td>3.0</td><td>null</td></tr>\n",
       "<tr><td>max</td><td>3</td><td>3.0</td><td>xyz</td></tr>\n",
       "</table>\n"
      ],
      "text/plain": [
       "+-------+----+----+----+\n",
       "|summary|col1|col2|col3|\n",
       "+-------+----+----+----+\n",
       "|  count|   3|   3|   3|\n",
       "|   mean| 2.0| 2.0|null|\n",
       "| stddev| 1.0| 1.0|null|\n",
       "|    min|   1| 1.0| a12|\n",
       "|    25%|   1| 1.0|null|\n",
       "|    50%|   2| 2.0|null|\n",
       "|    75%|   3| 3.0|null|\n",
       "|    max|   3| 3.0| xyz|\n",
       "+-------+----+----+----+"
      ]
     },
     "execution_count": 15,
     "metadata": {},
     "output_type": "execute_result"
    }
   ],
   "source": [
    "df.summary()"
   ]
  },
  {
   "cell_type": "code",
   "execution_count": 24,
   "id": "3cd01513",
   "metadata": {},
   "outputs": [
    {
     "name": "stdout",
     "output_type": "stream",
     "text": [
      "+-------+----+----+----+\n",
      "|summary|col1|col2|col3|\n",
      "+-------+----+----+----+\n",
      "|    min|   1| 1.0| a12|\n",
      "|   mean| 2.0| 2.0|null|\n",
      "|    max|   3| 3.0| xyz|\n",
      "+-------+----+----+----+\n",
      "\n"
     ]
    }
   ],
   "source": [
    "df.summary(['min','mean','max']).show()"
   ]
  },
  {
   "cell_type": "code",
   "execution_count": 25,
   "id": "66d64139",
   "metadata": {},
   "outputs": [
    {
     "data": {
      "text/html": [
       "<table border='1'>\n",
       "<tr><th>summary</th><th>col1</th><th>col2</th></tr>\n",
       "<tr><td>count</td><td>3</td><td>3</td></tr>\n",
       "<tr><td>mean</td><td>2.0</td><td>2.0</td></tr>\n",
       "<tr><td>stddev</td><td>1.0</td><td>1.0</td></tr>\n",
       "<tr><td>min</td><td>1</td><td>1.0</td></tr>\n",
       "<tr><td>25%</td><td>1</td><td>1.0</td></tr>\n",
       "<tr><td>50%</td><td>2</td><td>2.0</td></tr>\n",
       "<tr><td>75%</td><td>3</td><td>3.0</td></tr>\n",
       "<tr><td>max</td><td>3</td><td>3.0</td></tr>\n",
       "</table>\n"
      ],
      "text/plain": [
       "+-------+----+----+\n",
       "|summary|col1|col2|\n",
       "+-------+----+----+\n",
       "|  count|   3|   3|\n",
       "|   mean| 2.0| 2.0|\n",
       "| stddev| 1.0| 1.0|\n",
       "|    min|   1| 1.0|\n",
       "|    25%|   1| 1.0|\n",
       "|    50%|   2| 2.0|\n",
       "|    75%|   3| 3.0|\n",
       "|    max|   3| 3.0|\n",
       "+-------+----+----+"
      ]
     },
     "execution_count": 25,
     "metadata": {},
     "output_type": "execute_result"
    }
   ],
   "source": [
    "df.select('col1','col2').summary()"
   ]
  },
  {
   "cell_type": "markdown",
   "id": "bea37bfd",
   "metadata": {},
   "source": [
    "## Convert Dataframe to Pandas"
   ]
  },
  {
   "cell_type": "code",
   "execution_count": 16,
   "id": "5b5ff5a7",
   "metadata": {},
   "outputs": [
    {
     "data": {
      "text/html": [
       "<div>\n",
       "<style scoped>\n",
       "    .dataframe tbody tr th:only-of-type {\n",
       "        vertical-align: middle;\n",
       "    }\n",
       "\n",
       "    .dataframe tbody tr th {\n",
       "        vertical-align: top;\n",
       "    }\n",
       "\n",
       "    .dataframe thead th {\n",
       "        text-align: right;\n",
       "    }\n",
       "</style>\n",
       "<table border=\"1\" class=\"dataframe\">\n",
       "  <thead>\n",
       "    <tr style=\"text-align: right;\">\n",
       "      <th></th>\n",
       "      <th>col1</th>\n",
       "      <th>col2</th>\n",
       "      <th>col3</th>\n",
       "      <th>col4</th>\n",
       "      <th>col5</th>\n",
       "    </tr>\n",
       "  </thead>\n",
       "  <tbody>\n",
       "    <tr>\n",
       "      <th>0</th>\n",
       "      <td>1</td>\n",
       "      <td>1.0</td>\n",
       "      <td>abc</td>\n",
       "      <td>2020-01-01</td>\n",
       "      <td>2020-01-01 12:00:00</td>\n",
       "    </tr>\n",
       "    <tr>\n",
       "      <th>1</th>\n",
       "      <td>2</td>\n",
       "      <td>2.0</td>\n",
       "      <td>xyz</td>\n",
       "      <td>2020-02-01</td>\n",
       "      <td>2020-01-02 12:00:00</td>\n",
       "    </tr>\n",
       "    <tr>\n",
       "      <th>2</th>\n",
       "      <td>3</td>\n",
       "      <td>3.0</td>\n",
       "      <td>a12</td>\n",
       "      <td>2020-03-01</td>\n",
       "      <td>2020-01-03 12:00:00</td>\n",
       "    </tr>\n",
       "  </tbody>\n",
       "</table>\n",
       "</div>"
      ],
      "text/plain": [
       "   col1  col2 col3        col4                col5\n",
       "0     1   1.0  abc  2020-01-01 2020-01-01 12:00:00\n",
       "1     2   2.0  xyz  2020-02-01 2020-01-02 12:00:00\n",
       "2     3   3.0  a12  2020-03-01 2020-01-03 12:00:00"
      ]
     },
     "execution_count": 16,
     "metadata": {},
     "output_type": "execute_result"
    }
   ],
   "source": [
    "df.toPandas()"
   ]
  },
  {
   "cell_type": "markdown",
   "id": "1471d647",
   "metadata": {},
   "source": [
    "## Selecting and Accessing Data"
   ]
  },
  {
   "cell_type": "code",
   "execution_count": 17,
   "id": "89ae8f34",
   "metadata": {},
   "outputs": [
    {
     "data": {
      "text/plain": [
       "Column<'col3'>"
      ]
     },
     "execution_count": 17,
     "metadata": {},
     "output_type": "execute_result"
    }
   ],
   "source": [
    "df.col3"
   ]
  },
  {
   "cell_type": "code",
   "execution_count": 18,
   "id": "41e2c394",
   "metadata": {},
   "outputs": [
    {
     "data": {
      "text/plain": [
       "pyspark.sql.column.Column"
      ]
     },
     "execution_count": 18,
     "metadata": {},
     "output_type": "execute_result"
    }
   ],
   "source": [
    "type(df.col3)"
   ]
  },
  {
   "cell_type": "code",
   "execution_count": 19,
   "id": "9543a89c",
   "metadata": {},
   "outputs": [
    {
     "name": "stdout",
     "output_type": "stream",
     "text": [
      "+----+----+\n",
      "|col1|col3|\n",
      "+----+----+\n",
      "|   1| abc|\n",
      "|   2| xyz|\n",
      "|   3| a12|\n",
      "+----+----+\n",
      "\n"
     ]
    }
   ],
   "source": [
    "df.select(df.col1, df.col3).show()"
   ]
  },
  {
   "cell_type": "markdown",
   "id": "d750d01f",
   "metadata": {},
   "source": [
    "DataFrame.select() takes the Column instances that returns another DataFrame."
   ]
  },
  {
   "cell_type": "code",
   "execution_count": 20,
   "id": "2685aafe",
   "metadata": {},
   "outputs": [
    {
     "name": "stdout",
     "output_type": "stream",
     "text": [
      "+----+----+\n",
      "|col1|col2|\n",
      "+----+----+\n",
      "|   1| 1.0|\n",
      "|   2| 2.0|\n",
      "|   3| 3.0|\n",
      "+----+----+\n",
      "\n"
     ]
    }
   ],
   "source": [
    "df.select('col1','col2').show()"
   ]
  },
  {
   "cell_type": "code",
   "execution_count": 21,
   "id": "7efe5c07",
   "metadata": {},
   "outputs": [
    {
     "name": "stdout",
     "output_type": "stream",
     "text": [
      "+----+----+\n",
      "|col1|col3|\n",
      "+----+----+\n",
      "|   1| abc|\n",
      "|   2| xyz|\n",
      "|   3| a12|\n",
      "+----+----+\n",
      "\n"
     ]
    }
   ],
   "source": [
    "cols = ['col1','col3']\n",
    "df.select(*cols).show()"
   ]
  },
  {
   "cell_type": "code",
   "execution_count": 22,
   "id": "5fac3dfd",
   "metadata": {},
   "outputs": [
    {
     "data": {
      "text/plain": [
       "[Row(col1=1, col2=1.0, col3='abc', col4=datetime.date(2020, 1, 1), col5=datetime.datetime(2020, 1, 1, 12, 0))]"
      ]
     },
     "execution_count": 22,
     "metadata": {},
     "output_type": "execute_result"
    }
   ],
   "source": [
    "df.take(1)"
   ]
  },
  {
   "cell_type": "code",
   "execution_count": 23,
   "id": "08344bb2",
   "metadata": {},
   "outputs": [
    {
     "data": {
      "text/plain": [
       "[Row(col1=1, col2=1.0, col3='abc', col4=datetime.date(2020, 1, 1), col5=datetime.datetime(2020, 1, 1, 12, 0)),\n",
       " Row(col1=2, col2=2.0, col3='xyz', col4=datetime.date(2020, 2, 1), col5=datetime.datetime(2020, 1, 2, 12, 0))]"
      ]
     },
     "execution_count": 23,
     "metadata": {},
     "output_type": "execute_result"
    }
   ],
   "source": [
    "df.head(2)"
   ]
  }
 ],
 "metadata": {
  "kernelspec": {
   "display_name": "Python 3",
   "language": "python",
   "name": "python3"
  },
  "language_info": {
   "codemirror_mode": {
    "name": "ipython",
    "version": 3
   },
   "file_extension": ".py",
   "mimetype": "text/x-python",
   "name": "python",
   "nbconvert_exporter": "python",
   "pygments_lexer": "ipython3",
   "version": "3.6.9"
  }
 },
 "nbformat": 4,
 "nbformat_minor": 5
}
