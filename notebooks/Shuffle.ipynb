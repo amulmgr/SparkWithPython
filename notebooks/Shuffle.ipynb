{
 "cells": [
  {
   "cell_type": "code",
   "execution_count": 1,
   "metadata": {},
   "outputs": [],
   "source": [
    "from __future__ import print_function\n",
    "import findspark\n",
    "findspark.init()\n",
    "import pyspark\n",
    "from pyspark.sql import SparkSession"
   ]
  },
  {
   "cell_type": "code",
   "execution_count": 2,
   "metadata": {},
   "outputs": [],
   "source": [
    "spark = SparkSession.builder.appName(\"Create Dataframes\").getOrCreate()"
   ]
  },
  {
   "cell_type": "code",
   "execution_count": 4,
   "metadata": {},
   "outputs": [
    {
     "name": "stdout",
     "output_type": "stream",
     "text": [
      "root\n",
      " |-- dob: string (nullable = true)\n",
      " |-- age: long (nullable = true)\n",
      " |-- is_fan: boolean (nullable = true)\n",
      "\n"
     ]
    }
   ],
   "source": [
    "from collections import namedtuple\n",
    "\n",
    "user_row = namedtuple('user_row', 'dob age is_fan'.split())\n",
    "data = [\n",
    "    user_row('1990-05-03', 29, True),\n",
    "    user_row('1994-09-23', 25, False)\n",
    "]\n",
    "\n",
    "user_df = spark.createDataFrame(data)\n",
    "user_df.printSchema()"
   ]
  },
  {
   "cell_type": "code",
   "execution_count": 25,
   "metadata": {},
   "outputs": [
    {
     "name": "stdout",
     "output_type": "stream",
     "text": [
      "root\n",
      " |-- user_id: string (nullable = true)\n",
      " |-- age: long (nullable = true)\n",
      "\n",
      "+-------+---+\n",
      "|user_id|age|\n",
      "+-------+---+\n",
      "| user_1| 30|\n",
      "| user_2| 34|\n",
      "| user_4| 36|\n",
      "+-------+---+\n",
      "\n"
     ]
    }
   ],
   "source": [
    "from collections import namedtuple\n",
    "UserData = namedtuple('UserData',['user_id','age']) \n",
    "user_data = [\n",
    "    UserData('user_1', 30),\n",
    "    UserData('user_2', 34),\n",
    "    UserData('user_4', 36)\n",
    "]\n",
    "userData_df = spark.createDataFrame(user_data)\n",
    "userData_df.printSchema()\n",
    "userData_df.show()"
   ]
  },
  {
   "cell_type": "code",
   "execution_count": 26,
   "metadata": {},
   "outputs": [
    {
     "name": "stdout",
     "output_type": "stream",
     "text": [
      "root\n",
      " |-- user_id: string (nullable = true)\n",
      " |-- amount: long (nullable = true)\n",
      "\n",
      "+-------+------+\n",
      "|user_id|amount|\n",
      "+-------+------+\n",
      "| user_1|  3000|\n",
      "| user_2|  5000|\n",
      "| user_3| 10000|\n",
      "+-------+------+\n",
      "\n"
     ]
    }
   ],
   "source": [
    "TransactionData = namedtuple('TransactionData',['user_id','amount']) \n",
    "transaction_data = [\n",
    "    TransactionData('user_1', 3000),\n",
    "    TransactionData('user_2', 5000),\n",
    "    TransactionData('user_3', 10000)\n",
    "]\n",
    "transactionData_df = spark.createDataFrame(transaction_data)\n",
    "transactionData_df.printSchema()\n",
    "transactionData_df.show()"
   ]
  },
  {
   "cell_type": "code",
   "execution_count": 27,
   "metadata": {},
   "outputs": [],
   "source": [
    "user_transaction_df = userData_df.join(transactionData_df, userData_df.user_id == transactionData_df.user_id)"
   ]
  },
  {
   "cell_type": "markdown",
   "metadata": {},
   "source": [
    "userData will stay on the current executors, but the transactionData needs to be send to those executors according to joining column causing shuffle"
   ]
  },
  {
   "cell_type": "code",
   "execution_count": 28,
   "metadata": {},
   "outputs": [
    {
     "name": "stdout",
     "output_type": "stream",
     "text": [
      "== Physical Plan ==\n",
      "*(5) SortMergeJoin [user_id#150], [user_id#163], Inner\n",
      ":- *(2) Sort [user_id#150 ASC NULLS FIRST], false, 0\n",
      ":  +- Exchange hashpartitioning(user_id#150, 200), true, [id=#388]\n",
      ":     +- *(1) Filter isnotnull(user_id#150)\n",
      ":        +- *(1) Scan ExistingRDD[user_id#150,age#151L]\n",
      "+- *(4) Sort [user_id#163 ASC NULLS FIRST], false, 0\n",
      "   +- Exchange hashpartitioning(user_id#163, 200), true, [id=#394]\n",
      "      +- *(3) Filter isnotnull(user_id#163)\n",
      "         +- *(3) Scan ExistingRDD[user_id#163,amount#164L]\n",
      "\n",
      "\n"
     ]
    }
   ],
   "source": [
    "user_transaction_df.explain()"
   ]
  },
  {
   "cell_type": "code",
   "execution_count": 29,
   "metadata": {},
   "outputs": [
    {
     "name": "stdout",
     "output_type": "stream",
     "text": [
      "+-------+---+-------+------+\n",
      "|user_id|age|user_id|amount|\n",
      "+-------+---+-------+------+\n",
      "|user_1 |30 |user_1 |3000  |\n",
      "|user_2 |34 |user_2 |5000  |\n",
      "+-------+---+-------+------+\n",
      "\n",
      "7.367485046386719\n"
     ]
    }
   ],
   "source": [
    "import datetime; \n",
    "start = datetime.datetime.now().timestamp() \n",
    "user_transaction_df.show(truncate=False)\n",
    "end = datetime.datetime.now().timestamp() \n",
    "\n",
    "print(end-start)"
   ]
  },
  {
   "cell_type": "code",
   "execution_count": 30,
   "metadata": {},
   "outputs": [],
   "source": [
    "userData_df1 = userData_df.repartition('user_id')\n",
    "transactionData_df1 = transactionData_df.repartition('user_id')"
   ]
  },
  {
   "cell_type": "code",
   "execution_count": 31,
   "metadata": {},
   "outputs": [
    {
     "name": "stdout",
     "output_type": "stream",
     "text": [
      "== Physical Plan ==\n",
      "Exchange hashpartitioning(user_id#150, 200), false, [id=#459]\n",
      "+- *(1) Scan ExistingRDD[user_id#150,age#151L]\n",
      "\n",
      "\n"
     ]
    }
   ],
   "source": [
    "userData_df1.explain()"
   ]
  },
  {
   "cell_type": "code",
   "execution_count": 32,
   "metadata": {},
   "outputs": [
    {
     "name": "stdout",
     "output_type": "stream",
     "text": [
      "== Physical Plan ==\n",
      "Exchange hashpartitioning(user_id#163, 200), false, [id=#468]\n",
      "+- *(1) Scan ExistingRDD[user_id#163,amount#164L]\n",
      "\n",
      "\n"
     ]
    }
   ],
   "source": [
    "transactionData_df1.explain()"
   ]
  },
  {
   "cell_type": "code",
   "execution_count": 33,
   "metadata": {},
   "outputs": [],
   "source": [
    "user_transaction_df1 = userData_df1.join(transactionData_df1, userData_df1.user_id == transactionData_df1.user_id)"
   ]
  },
  {
   "cell_type": "code",
   "execution_count": 34,
   "metadata": {},
   "outputs": [
    {
     "name": "stdout",
     "output_type": "stream",
     "text": [
      "== Physical Plan ==\n",
      "*(5) SortMergeJoin [user_id#150], [user_id#163], Inner\n",
      ":- *(2) Sort [user_id#150 ASC NULLS FIRST], false, 0\n",
      ":  +- Exchange hashpartitioning(user_id#150, 200), false, [id=#501]\n",
      ":     +- *(1) Filter isnotnull(user_id#150)\n",
      ":        +- *(1) Scan ExistingRDD[user_id#150,age#151L]\n",
      "+- *(4) Sort [user_id#163 ASC NULLS FIRST], false, 0\n",
      "   +- Exchange hashpartitioning(user_id#163, 200), false, [id=#507]\n",
      "      +- *(3) Filter isnotnull(user_id#163)\n",
      "         +- *(3) Scan ExistingRDD[user_id#163,amount#164L]\n",
      "\n",
      "\n"
     ]
    }
   ],
   "source": [
    "user_transaction_df1.explain()"
   ]
  },
  {
   "cell_type": "code",
   "execution_count": 35,
   "metadata": {},
   "outputs": [
    {
     "name": "stdout",
     "output_type": "stream",
     "text": [
      "+-------+---+-------+------+\n",
      "|user_id|age|user_id|amount|\n",
      "+-------+---+-------+------+\n",
      "|user_1 |30 |user_1 |3000  |\n",
      "|user_2 |34 |user_2 |5000  |\n",
      "+-------+---+-------+------+\n",
      "\n",
      "7.313449144363403\n"
     ]
    }
   ],
   "source": [
    "start = datetime.datetime.now().timestamp() \n",
    "user_transaction_df1.show(truncate=False)\n",
    "end = datetime.datetime.now().timestamp() \n",
    "\n",
    "print(end-start)"
   ]
  },
  {
   "cell_type": "code",
   "execution_count": null,
   "metadata": {},
   "outputs": [],
   "source": []
  }
 ],
 "metadata": {
  "kernelspec": {
   "display_name": "Python 3",
   "language": "python",
   "name": "python3"
  },
  "language_info": {
   "codemirror_mode": {
    "name": "ipython",
    "version": 3
   },
   "file_extension": ".py",
   "mimetype": "text/x-python",
   "name": "python",
   "nbconvert_exporter": "python",
   "pygments_lexer": "ipython3",
   "version": "3.6.9"
  }
 },
 "nbformat": 4,
 "nbformat_minor": 4
}
