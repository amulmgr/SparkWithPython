{
 "cells": [
  {
   "cell_type": "markdown",
   "id": "3aa9e025",
   "metadata": {},
   "source": [
    "### Import Required modules and initialize SparkSession"
   ]
  },
  {
   "cell_type": "code",
   "execution_count": 1,
   "id": "5dde906d",
   "metadata": {},
   "outputs": [],
   "source": [
    "from __future__ import print_function\n",
    "import findspark\n",
    "findspark.init()\n",
    "import pyspark\n",
    "from pyspark.sql import SparkSession"
   ]
  },
  {
   "cell_type": "code",
   "execution_count": 2,
   "id": "2a796fa5",
   "metadata": {},
   "outputs": [],
   "source": [
    "spark = SparkSession.builder.appName(\"DataFrame Functions\").getOrCreate()"
   ]
  },
  {
   "cell_type": "code",
   "execution_count": 3,
   "id": "b679f83c",
   "metadata": {},
   "outputs": [
    {
     "data": {
      "text/html": [
       "\n",
       "            <div>\n",
       "                <p><b>SparkSession - in-memory</b></p>\n",
       "                \n",
       "        <div>\n",
       "            <p><b>SparkContext</b></p>\n",
       "\n",
       "            <p><a href=\"http://DESKTOP-O9UJUJO.mshome.net:4048\">Spark UI</a></p>\n",
       "\n",
       "            <dl>\n",
       "              <dt>Version</dt>\n",
       "                <dd><code>v3.1.1</code></dd>\n",
       "              <dt>Master</dt>\n",
       "                <dd><code>local[*]</code></dd>\n",
       "              <dt>AppName</dt>\n",
       "                <dd><code>DataFrame Functions</code></dd>\n",
       "            </dl>\n",
       "        </div>\n",
       "        \n",
       "            </div>\n",
       "        "
      ],
      "text/plain": [
       "<pyspark.sql.session.SparkSession at 0x207e4cf9eb8>"
      ]
     },
     "execution_count": 3,
     "metadata": {},
     "output_type": "execute_result"
    }
   ],
   "source": [
    "spark"
   ]
  },
  {
   "cell_type": "markdown",
   "id": "66c507ac",
   "metadata": {},
   "source": [
    "### Create DataFrame with sample data"
   ]
  },
  {
   "cell_type": "code",
   "execution_count": 4,
   "id": "dce187a7",
   "metadata": {},
   "outputs": [],
   "source": [
    "data = [\n",
    "    (\"Satish\", \"Kumar\", 36, 14, 80000.),\n",
    "    (\"Ramya\", \"Sree\", 32, 9, 50000.),\n",
    "    (\"Tejaswini\", \"Uppara\", None , 3, 30000.),\n",
    "    (\"Bhavishya\", \"Uppara\", None , 2, 20000.),\n",
    "]\n",
    "\n",
    "df = spark.createDataFrame(\n",
    "    data, schema='first_name string, second_name string, age int, experience int, salary double'\n",
    ")"
   ]
  },
  {
   "cell_type": "code",
   "execution_count": 5,
   "id": "8a0e3f23",
   "metadata": {},
   "outputs": [
    {
     "name": "stdout",
     "output_type": "stream",
     "text": [
      "+----------+-----------+----+----------+-------+\n",
      "|first_name|second_name|age |experience|salary |\n",
      "+----------+-----------+----+----------+-------+\n",
      "|Satish    |Kumar      |36  |14        |80000.0|\n",
      "|Ramya     |Sree       |32  |9         |50000.0|\n",
      "|Tejaswini |Uppara     |null|3         |30000.0|\n",
      "|Bhavishya |Uppara     |null|2         |20000.0|\n",
      "+----------+-----------+----+----------+-------+\n",
      "\n"
     ]
    }
   ],
   "source": [
    "df.show(truncate=False)"
   ]
  },
  {
   "cell_type": "markdown",
   "id": "f8adecce",
   "metadata": {},
   "source": [
    "### Sorting the data based on Columns"
   ]
  },
  {
   "cell_type": "markdown",
   "id": "5751de47",
   "metadata": {},
   "source": [
    "#### Get records in ascending order w.r.t age column"
   ]
  },
  {
   "cell_type": "code",
   "execution_count": 6,
   "id": "bc496906",
   "metadata": {},
   "outputs": [
    {
     "name": "stdout",
     "output_type": "stream",
     "text": [
      "+----------+----+\n",
      "|first_name| age|\n",
      "+----------+----+\n",
      "| Bhavishya|null|\n",
      "| Tejaswini|null|\n",
      "|     Ramya|  32|\n",
      "|    Satish|  36|\n",
      "+----------+----+\n",
      "\n"
     ]
    }
   ],
   "source": [
    "df.select(df.first_name, df.age).orderBy(df.age.asc()).show()"
   ]
  },
  {
   "cell_type": "markdown",
   "id": "1e2e974e",
   "metadata": {},
   "source": [
    "#### Get records in ascending order w.r.t age column, and null values return before non-null values."
   ]
  },
  {
   "cell_type": "code",
   "execution_count": 7,
   "id": "ce13d2bc",
   "metadata": {},
   "outputs": [
    {
     "name": "stdout",
     "output_type": "stream",
     "text": [
      "+----------+----+\n",
      "|first_name| age|\n",
      "+----------+----+\n",
      "| Tejaswini|null|\n",
      "| Bhavishya|null|\n",
      "|     Ramya|  32|\n",
      "|    Satish|  36|\n",
      "+----------+----+\n",
      "\n"
     ]
    }
   ],
   "source": [
    "df.select(df.first_name, df.age).orderBy(df.age.asc_nulls_first()).show()"
   ]
  },
  {
   "cell_type": "markdown",
   "id": "ba590ae2",
   "metadata": {},
   "source": [
    "#### Get records in ascending order w.r.t age column, and null values appear after non-null values."
   ]
  },
  {
   "cell_type": "code",
   "execution_count": 8,
   "id": "91c9f12a",
   "metadata": {},
   "outputs": [
    {
     "name": "stdout",
     "output_type": "stream",
     "text": [
      "+----------+----+\n",
      "|first_name| age|\n",
      "+----------+----+\n",
      "|     Ramya|  32|\n",
      "|    Satish|  36|\n",
      "| Bhavishya|null|\n",
      "| Tejaswini|null|\n",
      "+----------+----+\n",
      "\n"
     ]
    }
   ],
   "source": [
    "df.select(df.first_name, df.age).orderBy(df.age.asc_nulls_last()).show()"
   ]
  },
  {
   "cell_type": "markdown",
   "id": "4ca840ca",
   "metadata": {},
   "source": [
    "#### Get records in descending order w.r.t age column"
   ]
  },
  {
   "cell_type": "code",
   "execution_count": 9,
   "id": "ec64e018",
   "metadata": {},
   "outputs": [
    {
     "name": "stdout",
     "output_type": "stream",
     "text": [
      "+----------+----+\n",
      "|first_name| age|\n",
      "+----------+----+\n",
      "|    Satish|  36|\n",
      "|     Ramya|  32|\n",
      "| Bhavishya|null|\n",
      "| Tejaswini|null|\n",
      "+----------+----+\n",
      "\n"
     ]
    }
   ],
   "source": [
    "df.select(df.first_name, df.age).orderBy(df.age.desc()).show()"
   ]
  },
  {
   "cell_type": "markdown",
   "id": "d83eff0e",
   "metadata": {},
   "source": [
    "#### Get records in descending order w.r.t age column, and null values return before non-null values."
   ]
  },
  {
   "cell_type": "code",
   "execution_count": 10,
   "id": "ff7e57c0",
   "metadata": {},
   "outputs": [
    {
     "name": "stdout",
     "output_type": "stream",
     "text": [
      "+----------+----+\n",
      "|first_name| age|\n",
      "+----------+----+\n",
      "| Bhavishya|null|\n",
      "| Tejaswini|null|\n",
      "|    Satish|  36|\n",
      "|     Ramya|  32|\n",
      "+----------+----+\n",
      "\n"
     ]
    }
   ],
   "source": [
    "df.select(df.first_name, df.age).orderBy(df.age.desc_nulls_first()).show()"
   ]
  },
  {
   "cell_type": "markdown",
   "id": "dadf553b",
   "metadata": {},
   "source": [
    "#### Get records in descending order w.r.t age column, and null values appear after non-null values"
   ]
  },
  {
   "cell_type": "code",
   "execution_count": 11,
   "id": "34fd9705",
   "metadata": {},
   "outputs": [
    {
     "name": "stdout",
     "output_type": "stream",
     "text": [
      "+----------+----+\n",
      "|first_name| age|\n",
      "+----------+----+\n",
      "|    Satish|  36|\n",
      "|     Ramya|  32|\n",
      "| Bhavishya|null|\n",
      "| Tejaswini|null|\n",
      "+----------+----+\n",
      "\n"
     ]
    }
   ],
   "source": [
    "df.select(df.first_name, df.age).orderBy(df.age.desc_nulls_last()).show()"
   ]
  },
  {
   "cell_type": "code",
   "execution_count": null,
   "id": "c862aeab",
   "metadata": {},
   "outputs": [],
   "source": [
    "    "
   ]
  }
 ],
 "metadata": {
  "kernelspec": {
   "display_name": "Python 3",
   "language": "python",
   "name": "python3"
  },
  "language_info": {
   "codemirror_mode": {
    "name": "ipython",
    "version": 3
   },
   "file_extension": ".py",
   "mimetype": "text/x-python",
   "name": "python",
   "nbconvert_exporter": "python",
   "pygments_lexer": "ipython3",
   "version": "3.6.9"
  }
 },
 "nbformat": 4,
 "nbformat_minor": 5
}
