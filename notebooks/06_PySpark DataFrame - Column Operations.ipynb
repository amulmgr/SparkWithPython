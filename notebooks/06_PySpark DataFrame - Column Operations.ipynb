{
 "cells": [
  {
   "cell_type": "markdown",
   "id": "c2e6e737",
   "metadata": {},
   "source": [
    "## Column"
   ]
  },
  {
   "cell_type": "markdown",
   "id": "6168a7f5",
   "metadata": {},
   "source": [
    "A column in a DataFrame."
   ]
  },
  {
   "cell_type": "markdown",
   "id": "3aa9e025",
   "metadata": {},
   "source": [
    "### Import Required modules and initialize SparkSession"
   ]
  },
  {
   "cell_type": "code",
   "execution_count": 1,
   "id": "5dde906d",
   "metadata": {},
   "outputs": [],
   "source": [
    "from __future__ import print_function\n",
    "import findspark\n",
    "findspark.init()\n",
    "import pyspark\n",
    "from pyspark.sql import SparkSession"
   ]
  },
  {
   "cell_type": "code",
   "execution_count": 2,
   "id": "2a796fa5",
   "metadata": {},
   "outputs": [],
   "source": [
    "spark = SparkSession.builder.appName(\"DataFrame Functions\").getOrCreate()"
   ]
  },
  {
   "cell_type": "code",
   "execution_count": 3,
   "id": "b679f83c",
   "metadata": {},
   "outputs": [
    {
     "data": {
      "text/html": [
       "\n",
       "            <div>\n",
       "                <p><b>SparkSession - in-memory</b></p>\n",
       "                \n",
       "        <div>\n",
       "            <p><b>SparkContext</b></p>\n",
       "\n",
       "            <p><a href=\"http://DESKTOP-O9UJUJO.mshome.net:4046\">Spark UI</a></p>\n",
       "\n",
       "            <dl>\n",
       "              <dt>Version</dt>\n",
       "                <dd><code>v3.1.1</code></dd>\n",
       "              <dt>Master</dt>\n",
       "                <dd><code>local[*]</code></dd>\n",
       "              <dt>AppName</dt>\n",
       "                <dd><code>DataFrame Functions</code></dd>\n",
       "            </dl>\n",
       "        </div>\n",
       "        \n",
       "            </div>\n",
       "        "
      ],
      "text/plain": [
       "<pyspark.sql.session.SparkSession at 0x1b079539eb8>"
      ]
     },
     "execution_count": 3,
     "metadata": {},
     "output_type": "execute_result"
    }
   ],
   "source": [
    "spark"
   ]
  },
  {
   "cell_type": "markdown",
   "id": "54e409b4",
   "metadata": {},
   "source": [
    "### Create DataFrame with sample data"
   ]
  },
  {
   "cell_type": "code",
   "execution_count": 4,
   "id": "de24fb7e",
   "metadata": {},
   "outputs": [],
   "source": [
    "from pyspark.sql import Row\n",
    "\n",
    "data = [\n",
    "    Row(\n",
    "        first_name=\"Satish\", second_name=\"Kumar\", age=35, experience=12, salary=80000., \n",
    "        assets=Row(laptop=1, desktop=1),\n",
    "        phone_nums=['123456', '222211'],\n",
    "        others={\"has_vehical\": \"yes\"}\n",
    "    ),\n",
    "    Row(\n",
    "        first_name=\"Ramya\", second_name=\"Sree\", age=30, experience=8, salary=50000.,\n",
    "        assets=Row(laptop=1, desktop=0),\n",
    "        phone_nums=['123457', '222212'],\n",
    "        others={\"has_vehical\": \"yes\"}\n",
    "    ),\n",
    "    Row(\n",
    "        first_name=\"Tejaswini\", second_name=\"Uppara\", age=None, experience=3, salary=30000., \n",
    "        assets=Row(laptop=0,desktop=1),\n",
    "        phone_nums=['222213'],\n",
    "        others={\"has_vehical\": \"no\"}\n",
    "    ),\n",
    "    Row(\n",
    "        first_name=\"Bhavishya\", second_name=\"Uppara\", age=None, experience=2, salary=20000., \n",
    "        assets=Row(laptop=0,desktop=1),\n",
    "        phone_nums=['222213'],\n",
    "        others={\"has_vehical\": \"no\"}\n",
    "    )\n",
    "]\n",
    "\n",
    "df = spark.createDataFrame(data)"
   ]
  },
  {
   "cell_type": "code",
   "execution_count": 5,
   "id": "4aecd4de",
   "metadata": {},
   "outputs": [
    {
     "name": "stdout",
     "output_type": "stream",
     "text": [
      "+----------+-----------+----+----------+-------+------+----------------+--------------------+\n",
      "|first_name|second_name|age |experience|salary |assets|phone_nums      |others              |\n",
      "+----------+-----------+----+----------+-------+------+----------------+--------------------+\n",
      "|Satish    |Kumar      |35  |12        |80000.0|{1, 1}|[123456, 222211]|{has_vehical -> yes}|\n",
      "|Ramya     |Sree       |30  |8         |50000.0|{1, 0}|[123457, 222212]|{has_vehical -> yes}|\n",
      "|Tejaswini |Uppara     |null|3         |30000.0|{0, 1}|[222213]        |{has_vehical -> no} |\n",
      "|Bhavishya |Uppara     |null|2         |20000.0|{0, 1}|[222213]        |{has_vehical -> no} |\n",
      "+----------+-----------+----+----------+-------+------+----------------+--------------------+\n",
      "\n"
     ]
    }
   ],
   "source": [
    "df.show(truncate = False)"
   ]
  },
  {
   "cell_type": "markdown",
   "id": "afbacd63",
   "metadata": {},
   "source": [
    "### Explore Column API"
   ]
  },
  {
   "cell_type": "code",
   "execution_count": 6,
   "id": "d54e0223",
   "metadata": {},
   "outputs": [
    {
     "data": {
      "text/plain": [
       "Column<'first_name'>"
      ]
     },
     "execution_count": 6,
     "metadata": {},
     "output_type": "execute_result"
    }
   ],
   "source": [
    "df.first_name"
   ]
  },
  {
   "cell_type": "code",
   "execution_count": 7,
   "id": "de709088",
   "metadata": {},
   "outputs": [
    {
     "data": {
      "text/plain": [
       "Column<'salary'>"
      ]
     },
     "execution_count": 7,
     "metadata": {},
     "output_type": "execute_result"
    }
   ],
   "source": [
    "df['salary']"
   ]
  },
  {
   "cell_type": "code",
   "execution_count": 8,
   "id": "a4431b6b",
   "metadata": {},
   "outputs": [
    {
     "data": {
      "text/plain": [
       "Column<'(salary * 0.2)'>"
      ]
     },
     "execution_count": 8,
     "metadata": {},
     "output_type": "execute_result"
    }
   ],
   "source": [
    "df.salary * 0.2"
   ]
  },
  {
   "cell_type": "code",
   "execution_count": 9,
   "id": "89ca9716",
   "metadata": {},
   "outputs": [
    {
     "name": "stdout",
     "output_type": "stream",
     "text": [
      "+----------+-------+--------------+\n",
      "|first_name|salary |(salary * 0.2)|\n",
      "+----------+-------+--------------+\n",
      "|Satish    |80000.0|16000.0       |\n",
      "|Ramya     |50000.0|10000.0       |\n",
      "|Tejaswini |30000.0|6000.0        |\n",
      "|Bhavishya |20000.0|4000.0        |\n",
      "+----------+-------+--------------+\n",
      "\n"
     ]
    }
   ],
   "source": [
    "df.select(df.first_name, df['salary'], df.salary * 0.2).show(truncate=False)"
   ]
  },
  {
   "cell_type": "markdown",
   "id": "3e775b74",
   "metadata": {},
   "source": [
    "#### Column aliased with a new name using 'alias' "
   ]
  },
  {
   "cell_type": "code",
   "execution_count": 10,
   "id": "5fe71501",
   "metadata": {},
   "outputs": [
    {
     "name": "stdout",
     "output_type": "stream",
     "text": [
      "+----------+-------+-----------------+\n",
      "|first_name|salary |Salary 20 percent|\n",
      "+----------+-------+-----------------+\n",
      "|Satish    |80000.0|16000.0          |\n",
      "|Ramya     |50000.0|10000.0          |\n",
      "|Tejaswini |30000.0|6000.0           |\n",
      "|Bhavishya |20000.0|4000.0           |\n",
      "+----------+-------+-----------------+\n",
      "\n"
     ]
    }
   ],
   "source": [
    "df.select(df.first_name, df['salary'], (df.salary * 0.2).alias('Salary 20 percent')).show(truncate=False)"
   ]
  },
  {
   "cell_type": "code",
   "execution_count": 11,
   "id": "a510c0eb",
   "metadata": {},
   "outputs": [
    {
     "name": "stdout",
     "output_type": "stream",
     "text": [
      "+-----------+\n",
      "|experience1|\n",
      "+-----------+\n",
      "|         12|\n",
      "|          8|\n",
      "|          3|\n",
      "|          2|\n",
      "+-----------+\n",
      "\n"
     ]
    }
   ],
   "source": [
    "df.select(df.experience.alias(\"experience1\")).show()"
   ]
  },
  {
   "cell_type": "code",
   "execution_count": 12,
   "id": "26e2fdd4",
   "metadata": {},
   "outputs": [
    {
     "name": "stdout",
     "output_type": "stream",
     "text": [
      "+-----------+\n",
      "|experience1|\n",
      "+-----------+\n",
      "|         12|\n",
      "|          8|\n",
      "|          3|\n",
      "|          2|\n",
      "+-----------+\n",
      "\n"
     ]
    }
   ],
   "source": [
    "df.select(df.experience.name(\"experience1\")).show()"
   ]
  },
  {
   "cell_type": "code",
   "execution_count": 13,
   "id": "40c7e9d3",
   "metadata": {},
   "outputs": [
    {
     "data": {
      "text/plain": [
       "1"
      ]
     },
     "execution_count": 13,
     "metadata": {},
     "output_type": "execute_result"
    }
   ],
   "source": [
    "df.select(df.experience.alias(\"experience1\", metadata={'min': 1})).schema['experience1'].metadata['min']"
   ]
  },
  {
   "cell_type": "markdown",
   "id": "433d5914",
   "metadata": {},
   "source": [
    "Optional argument 'metadata' – a dict of information to be stored in metadata attribute of the corresponding StructField class"
   ]
  },
  {
   "cell_type": "markdown",
   "id": "c8ee78e4",
   "metadata": {},
   "source": [
    "### Get field by name using 'getField(name)'"
   ]
  },
  {
   "cell_type": "code",
   "execution_count": 14,
   "id": "85927597",
   "metadata": {},
   "outputs": [
    {
     "name": "stdout",
     "output_type": "stream",
     "text": [
      "+------+\n",
      "|assets|\n",
      "+------+\n",
      "|{1, 1}|\n",
      "|{1, 0}|\n",
      "|{0, 1}|\n",
      "|{0, 1}|\n",
      "+------+\n",
      "\n"
     ]
    }
   ],
   "source": [
    "df.select(df.assets).show()"
   ]
  },
  {
   "cell_type": "code",
   "execution_count": 15,
   "id": "2de6f9b6",
   "metadata": {},
   "outputs": [
    {
     "name": "stdout",
     "output_type": "stream",
     "text": [
      "+----------+-----------+\n",
      "|has_laptop|has_desktop|\n",
      "+----------+-----------+\n",
      "|         1|          1|\n",
      "|         1|          0|\n",
      "|         0|          1|\n",
      "|         0|          1|\n",
      "+----------+-----------+\n",
      "\n"
     ]
    }
   ],
   "source": [
    "(\n",
    "    df.select(\n",
    "        df.assets.getField('laptop').name('has_laptop'),\n",
    "        df.assets.getField('desktop').name('has_desktop'),\n",
    "    )\n",
    ").show()"
   ]
  },
  {
   "cell_type": "code",
   "execution_count": 16,
   "id": "5a03989b",
   "metadata": {},
   "outputs": [
    {
     "name": "stdout",
     "output_type": "stream",
     "text": [
      "+----------+-----------+\n",
      "|has_laptop|has_desktop|\n",
      "+----------+-----------+\n",
      "|         1|          1|\n",
      "|         1|          0|\n",
      "|         0|          1|\n",
      "|         0|          1|\n",
      "+----------+-----------+\n",
      "\n"
     ]
    }
   ],
   "source": [
    "(\n",
    "    df.select(\n",
    "        df.assets.laptop.name('has_laptop'),\n",
    "        df.assets.desktop.name('has_desktop'),\n",
    "    )\n",
    ").show()"
   ]
  },
  {
   "cell_type": "markdown",
   "id": "9f994f1f",
   "metadata": {},
   "source": [
    "### Get an item at position ordinal out of a list, or gets an item by key out of a dict using 'getItem(key)'"
   ]
  },
  {
   "cell_type": "code",
   "execution_count": 17,
   "id": "2a992303",
   "metadata": {},
   "outputs": [
    {
     "name": "stdout",
     "output_type": "stream",
     "text": [
      "+----------------+--------------------+\n",
      "|      phone_nums|              others|\n",
      "+----------------+--------------------+\n",
      "|[123456, 222211]|{has_vehical -> yes}|\n",
      "|[123457, 222212]|{has_vehical -> yes}|\n",
      "|        [222213]| {has_vehical -> no}|\n",
      "|        [222213]| {has_vehical -> no}|\n",
      "+----------------+--------------------+\n",
      "\n"
     ]
    }
   ],
   "source": [
    "df.select(df.phone_nums,df.others).show()"
   ]
  },
  {
   "cell_type": "code",
   "execution_count": 18,
   "id": "372a1593",
   "metadata": {},
   "outputs": [
    {
     "name": "stdout",
     "output_type": "stream",
     "text": [
      "+-------------+-------------------+\n",
      "|phone_nums[0]|others[has_vehical]|\n",
      "+-------------+-------------------+\n",
      "|       123456|                yes|\n",
      "|       123457|                yes|\n",
      "|       222213|                 no|\n",
      "|       222213|                 no|\n",
      "+-------------+-------------------+\n",
      "\n"
     ]
    }
   ],
   "source": [
    "df.select(df.phone_nums.getItem(0),df.others.getItem('has_vehical')).show()"
   ]
  },
  {
   "cell_type": "markdown",
   "id": "907bcbad",
   "metadata": {
    "scrolled": true
   },
   "source": [
    "### Convert the column dataType"
   ]
  },
  {
   "cell_type": "code",
   "execution_count": 19,
   "id": "4827b86e",
   "metadata": {},
   "outputs": [],
   "source": [
    "df1 = df.select(df.age, df.age.cast(\"string\").alias('age_str'))"
   ]
  },
  {
   "cell_type": "code",
   "execution_count": 20,
   "id": "6507833e",
   "metadata": {},
   "outputs": [
    {
     "name": "stdout",
     "output_type": "stream",
     "text": [
      "root\n",
      " |-- age: long (nullable = true)\n",
      " |-- age_str: string (nullable = true)\n",
      "\n"
     ]
    }
   ],
   "source": [
    "df1.printSchema()"
   ]
  },
  {
   "cell_type": "code",
   "execution_count": 21,
   "id": "0af63726",
   "metadata": {},
   "outputs": [
    {
     "name": "stdout",
     "output_type": "stream",
     "text": [
      "+----+-------+\n",
      "| age|age_str|\n",
      "+----+-------+\n",
      "|  35|     35|\n",
      "|  30|     30|\n",
      "|null|   null|\n",
      "|null|   null|\n",
      "+----+-------+\n",
      "\n"
     ]
    }
   ],
   "source": [
    "df1.show()"
   ]
  },
  {
   "cell_type": "markdown",
   "id": "882a69f5",
   "metadata": {},
   "source": [
    "### Filter the columns with Null and Non-Null values "
   ]
  },
  {
   "cell_type": "code",
   "execution_count": 22,
   "id": "8029d239",
   "metadata": {},
   "outputs": [
    {
     "name": "stdout",
     "output_type": "stream",
     "text": [
      "+----------+-----------+----+----------+-------+------+----------------+--------------------+\n",
      "|first_name|second_name|age |experience|salary |assets|phone_nums      |others              |\n",
      "+----------+-----------+----+----------+-------+------+----------------+--------------------+\n",
      "|Satish    |Kumar      |35  |12        |80000.0|{1, 1}|[123456, 222211]|{has_vehical -> yes}|\n",
      "|Ramya     |Sree       |30  |8         |50000.0|{1, 0}|[123457, 222212]|{has_vehical -> yes}|\n",
      "|Tejaswini |Uppara     |null|3         |30000.0|{0, 1}|[222213]        |{has_vehical -> no} |\n",
      "|Bhavishya |Uppara     |null|2         |20000.0|{0, 1}|[222213]        |{has_vehical -> no} |\n",
      "+----------+-----------+----+----------+-------+------+----------------+--------------------+\n",
      "\n"
     ]
    }
   ],
   "source": [
    "df.show(truncate=False)"
   ]
  },
  {
   "cell_type": "code",
   "execution_count": 23,
   "id": "891961e5",
   "metadata": {},
   "outputs": [
    {
     "name": "stdout",
     "output_type": "stream",
     "text": [
      "+----------+-----------+----+----------+-------+------+----------+-------------------+\n",
      "|first_name|second_name|age |experience|salary |assets|phone_nums|others             |\n",
      "+----------+-----------+----+----------+-------+------+----------+-------------------+\n",
      "|Tejaswini |Uppara     |null|3         |30000.0|{0, 1}|[222213]  |{has_vehical -> no}|\n",
      "|Bhavishya |Uppara     |null|2         |20000.0|{0, 1}|[222213]  |{has_vehical -> no}|\n",
      "+----------+-----------+----+----------+-------+------+----------+-------------------+\n",
      "\n"
     ]
    }
   ],
   "source": [
    "# Get the records having age as Null\n",
    "df.filter(df.age.isNull()).show(truncate=False)"
   ]
  },
  {
   "cell_type": "code",
   "execution_count": 24,
   "id": "d3806dec",
   "metadata": {},
   "outputs": [
    {
     "name": "stdout",
     "output_type": "stream",
     "text": [
      "+----------+-----------+---+----------+-------+------+----------------+--------------------+\n",
      "|first_name|second_name|age|experience|salary |assets|phone_nums      |others              |\n",
      "+----------+-----------+---+----------+-------+------+----------------+--------------------+\n",
      "|Satish    |Kumar      |35 |12        |80000.0|{1, 1}|[123456, 222211]|{has_vehical -> yes}|\n",
      "|Ramya     |Sree       |30 |8         |50000.0|{1, 0}|[123457, 222212]|{has_vehical -> yes}|\n",
      "+----------+-----------+---+----------+-------+------+----------------+--------------------+\n",
      "\n"
     ]
    }
   ],
   "source": [
    "# Get the records having age is not Null\n",
    "df.filter(df.age.isNotNull()).show(truncate=False)"
   ]
  },
  {
   "cell_type": "code",
   "execution_count": 25,
   "id": "48e589c6",
   "metadata": {},
   "outputs": [
    {
     "name": "stdout",
     "output_type": "stream",
     "text": [
      "+----------+----+--------------+------------+\n",
      "|first_name| age|(age <=> NULL)|(age <=> 30)|\n",
      "+----------+----+--------------+------------+\n",
      "|    Satish|  35|         false|       false|\n",
      "|     Ramya|  30|         false|        true|\n",
      "| Tejaswini|null|          true|       false|\n",
      "| Bhavishya|null|          true|       false|\n",
      "+----------+----+--------------+------------+\n",
      "\n"
     ]
    }
   ],
   "source": [
    "# Equality test that is safe for null values.\n",
    "df.select(\n",
    "    df.first_name,\n",
    "    df.age,\n",
    "    df['age'].eqNullSafe(None),\n",
    "    df['age'].eqNullSafe(30)\n",
    ").show()"
   ]
  },
  {
   "cell_type": "markdown",
   "id": "66159f00",
   "metadata": {},
   "source": [
    "### Get the substring of the column value"
   ]
  },
  {
   "cell_type": "code",
   "execution_count": 26,
   "id": "184370cd",
   "metadata": {},
   "outputs": [
    {
     "name": "stdout",
     "output_type": "stream",
     "text": [
      "+----------+----------------+\n",
      "|first_name|first_name_3_let|\n",
      "+----------+----------------+\n",
      "|    Satish|             Sat|\n",
      "|     Ramya|             Ram|\n",
      "| Tejaswini|             Tej|\n",
      "| Bhavishya|             Bha|\n",
      "+----------+----------------+\n",
      "\n"
     ]
    }
   ],
   "source": [
    "df.select(df.first_name, df.first_name.substr(1, 3).alias(\"first_name_3_let\")).show()"
   ]
  },
  {
   "cell_type": "code",
   "execution_count": null,
   "id": "14125d21",
   "metadata": {},
   "outputs": [],
   "source": []
  }
 ],
 "metadata": {
  "kernelspec": {
   "display_name": "Python 3",
   "language": "python",
   "name": "python3"
  },
  "language_info": {
   "codemirror_mode": {
    "name": "ipython",
    "version": 3
   },
   "file_extension": ".py",
   "mimetype": "text/x-python",
   "name": "python",
   "nbconvert_exporter": "python",
   "pygments_lexer": "ipython3",
   "version": "3.6.9"
  }
 },
 "nbformat": 4,
 "nbformat_minor": 5
}
